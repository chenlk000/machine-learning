{
 "cells": [
  {
   "cell_type": "markdown",
   "metadata": {
    "_uuid": "ccb30bbb3598a1d4fb3790d978bc0c0e85389339",
    "pycharm": {}
   },
   "source": [
    "### This version cleaned and without validation (only 1 epoch, so don't use validation) "
   ]
  },
  {
   "cell_type": "code",
   "execution_count": 1,
   "metadata": {
    "_uuid": "9198fb677be3ac9abf16e8689a04edef08ca2c2a",
    "pycharm": {}
   },
   "outputs": [],
   "source": [
    "import warnings\n",
    "warnings.filterwarnings('ignore') # to suppress some matplotlib deprecation warnings\n",
    "\n",
    "import numpy as np # linear algebra\n",
    "import pandas as pd # data processing, CSV file I/O (e.g. pd.read_csv)\n",
    "\n",
    "import ast\n",
    "import cv2\n",
    "\n",
    "import matplotlib.pyplot as plt\n",
    "import matplotlib.style as style\n",
    "\n",
    "%matplotlib inline\n",
    "%config InlineBackend.figure_format = 'retina'\n",
    "\n",
    "import os\n",
    "import glob\n",
    "import time\n",
    "import tqdm"
   ]
  },
  {
   "cell_type": "code",
   "execution_count": 2,
   "metadata": {
    "_uuid": "632b7bda026ef88df3ed781287076cf3cba00ded",
    "pycharm": {}
   },
   "outputs": [],
   "source": [
    "import torch\n",
    "import torch.nn as nn\n",
    "from torch.utils.data import Dataset, DataLoader, ConcatDataset\n",
    "\n",
    "import torchvision\n",
    "from torchvision import transforms, utils"
   ]
  },
  {
   "cell_type": "code",
   "execution_count": 3,
   "metadata": {
    "_uuid": "dbef81eb0e43eddca9272b4eb06aaed7dc731e8e",
    "pycharm": {},
    "scrolled": true
   },
   "outputs": [
    {
     "name": "stdout",
     "output_type": "stream",
     "text": [
      "340\n"
     ]
    }
   ],
   "source": [
    "en_dict = {}\n",
    "path = './doodle_dataset/train_simplified'# 数据集存储位置\n",
    "\n",
    "filenames = glob.glob(os.path.join(path, '*.csv')) \n",
    "filenames = sorted(filenames)# 获得所有类似后缀并排序\n",
    "\n",
    "def encode_files():\n",
    "    \"\"\" Encode all label by name of csv_files \"\"\"\n",
    "    counter = 0\n",
    "    for fn in filenames:\n",
    "        en_dict[fn[:-4].split('\\\\')[-1].replace(' ', '_')] = counter # 剪切掉只留下有用字符\n",
    "        counter += 1\n",
    "    print(counter)\n",
    "        \n",
    "# collect file names and encode label\n",
    "encode_files() \n",
    "\n",
    "dec_dict = {v: k for k, v in en_dict.items()} # dict互换位置\n",
    "def decode_labels(label):\n",
    "    return dec_dict[label] # 通过数字获得名称\n",
    "\n",
    "def get_label(nfile):\n",
    "    \"\"\" Return encoded label for class by name of csv_files \"\"\"\n",
    "    return en_dict[nfile.replace(' ', '_')[:-4]]"
   ]
  },
  {
   "cell_type": "markdown",
   "metadata": {
    "_uuid": "dd391315b8fb0db7acaebe1d9bfba182e7669842",
    "pycharm": {}
   },
   "source": [
    "## Dataset class and loader\n",
    "Another example on official  [tutorial](https://pytorch.org/tutorials/beginner/data_loading_tutorial.html)"
   ]
  },
  {
   "cell_type": "markdown",
   "metadata": {
    "_uuid": "b452067d33b4d4dce73b69a49c5ce01c5ae39b39",
    "pycharm": {}
   },
   "source": [
    "### Load data to our DoodlesDataset"
   ]
  },
  {
   "cell_type": "code",
   "execution_count": 4,
   "metadata": {
    "_uuid": "0ee3b325e9705009c9d4a1f0f9ec009691c4c97c",
    "pycharm": {}
   },
   "outputs": [],
   "source": [
    "class DoodlesDataset(Dataset):\n",
    "    \"\"\"Doodles csv dataset.\"\"\"\n",
    "\n",
    "    def __init__(self, csv_file, root_dir, mode='train', nrows=1000, skiprows=None, size=256, transform=None):\n",
    "        \"\"\"\n",
    "        Args:\n",
    "            csv_file (string): Path to the csv file with annotations.\n",
    "            root_dir (string): Directory with all the images.\n",
    "            mode (string): Train or test mode.\n",
    "            nrows (int): Number of rows of file to read. Useful for reading pieces of large files.\n",
    "            skiprows (list-like or integer or callable): \n",
    "                    Line numbers to skip (0-indexed) or number of lines to skip (int) at the start of the file.\n",
    "            size (int): Size of output image.\n",
    "            transform (callable, optional): Optional transform to be applied\n",
    "                on a sample.\n",
    "        \"\"\"\n",
    "        self.root_dir = root_dir\n",
    "        file = os.path.join(self.root_dir, csv_file)\n",
    "        self.size = size\n",
    "        self.mode = mode\n",
    "        self.doodle = pd.read_csv(file, usecols=['drawing'], nrows=nrows, skiprows=skiprows)\n",
    "        self.transform = transform\n",
    "        if self.mode == 'train':\n",
    "            self.label = get_label(csv_file)\n",
    "\n",
    "    @staticmethod\n",
    "    def _draw(raw_strokes, size=256, lw=6, time_color=True):\n",
    "        BASE_SIZE = 256\n",
    "        img = np.zeros((BASE_SIZE, BASE_SIZE), np.uint8)\n",
    "        for t, stroke in enumerate(raw_strokes):\n",
    "            for i in range(len(stroke[0]) - 1):\n",
    "                color = 255 - min(t, 10) * 13 if time_color else 255\n",
    "                _ = cv2.line(img, (stroke[0][i], stroke[1][i]),\n",
    "                             (stroke[0][i + 1], stroke[1][i + 1]), color, lw)\n",
    "        if size != BASE_SIZE:\n",
    "            return cv2.resize(img, (size, size))\n",
    "        else:\n",
    "            return img\n",
    "    \n",
    "    def __len__(self):\n",
    "        return len(self.doodle)\n",
    "\n",
    "    def __getitem__(self, idx):\n",
    "        raw_strokes = ast.literal_eval(self.doodle.drawing[idx])\n",
    "        sample = self._draw(raw_strokes, size=self.size, lw=2, time_color=True)\n",
    "        if self.transform:\n",
    "            sample = self.transform(sample)\n",
    "        if self.mode == 'train':\n",
    "            return (sample[None]/255).astype('float32'), self.label\n",
    "        else:\n",
    "            return (sample[None]/255).astype('float32')"
   ]
  },
  {
   "cell_type": "code",
   "execution_count": 5,
   "metadata": {},
   "outputs": [],
   "source": [
    "SIZE = 224 # for matching to imagenet\n",
    "# collect all single csvset in one\n",
    "select_nrows = 4000\n",
    "doodles = ConcatDataset([DoodlesDataset(fn.split('\\\\')[-1], path, \n",
    "                                           nrows=select_nrows, size=SIZE) for fn in filenames])\n"
   ]
  },
  {
   "cell_type": "code",
   "execution_count": 6,
   "metadata": {},
   "outputs": [],
   "source": [
    "doodlesTest = ConcatDataset([DoodlesDataset(fn.split('\\\\')[-1], path, \n",
    "                                            nrows=30, skiprows=lambda x: (x < 4000) & (x > 1), size=SIZE) for fn in filenames])\n",
    "# a = pd.read_csv(filenames[0], usecols=['drawing'], nrows=20, skiprows=lambda x: (x < 4000) & (x > 1))"
   ]
  },
  {
   "cell_type": "code",
   "execution_count": 7,
   "metadata": {
    "_uuid": "0f1372d9e14013e607980ce390b09f2599d673a6",
    "pycharm": {}
   },
   "outputs": [
    {
     "name": "stdout",
     "output_type": "stream",
     "text": [
      "Train set: 1360000\n",
      "Train set: 10200\n"
     ]
    }
   ],
   "source": [
    "# total images in set\n",
    "print('Train set:', len(doodles))\n",
    "print('Train set:', len(doodlesTest))\n",
    "# print('Validation set:', len(validationset))\n",
    "# Use the torch dataloader to iterate through the dataset\n",
    "loader = DataLoader(doodles, batch_size=32, shuffle=True, num_workers=0)\n",
    "testloader = DataLoader(doodlesTest, batch_size=32, shuffle=True, num_workers=0)\n",
    "# valid_loader = DataLoader(validationset, batch_size=128, shuffle=False, num_workers=0)"
   ]
  },
  {
   "cell_type": "code",
   "execution_count": 8,
   "metadata": {},
   "outputs": [],
   "source": [
    "# functions to show an image and test\n",
    "def imshow(img):\n",
    "    npimg = img.numpy() # 转化为ndarry\n",
    "    plt.imshow(np.transpose(npimg, (1, 2, 0)))\n"
   ]
  },
  {
   "cell_type": "markdown",
   "metadata": {
    "_uuid": "369a1467b7be4d974cc4a71fcac5f27fddd600d0",
    "pycharm": {}
   },
   "source": [
    "### Get some images from set"
   ]
  },
  {
   "cell_type": "code",
   "execution_count": 14,
   "metadata": {
    "_uuid": "d6a92e3cf66fc593a980c5abf01473146a92755d",
    "pycharm": {},
    "scrolled": true
   },
   "outputs": [
    {
     "data": {
      "image/png": "[encoded data removed]",
      "text/plain": [
       "<Figure size 1152x1728 with 1 Axes>"
      ]
     },
     "metadata": {
      "image/png": {
       "height": 369.0,
       "width": 935.0
      },
      "needs_background": "light"
     },
     "output_type": "display_data"
    }
   ],
   "source": [
    "\n",
    "# get some images\n",
    "dataiter = iter(loader)\n",
    "images, label = dataiter.next()\n",
    "\n",
    "# show images\n",
    "plt.figure(figsize=(16,24)) # 每次显示16*24的图（这样一行可以显示8个）\n",
    "imshow(torchvision.utils.make_grid(images[:24])) # 显示前24张图"
   ]
  },
  {
   "cell_type": "code",
   "execution_count": 13,
   "metadata": {},
   "outputs": [
    {
     "ename": "NameError",
     "evalue": "name 'device' is not defined",
     "traceback": [
      "\u001b[1;31m---------------------------------------------------------------------------\u001b[0m",
      "\u001b[1;31mNameError\u001b[0m                                 Traceback (most recent call last)",
      "\u001b[1;32m<ipython-input-13-8be549cd13cd>\u001b[0m in \u001b[0;36m<module>\u001b[1;34m\u001b[0m\n\u001b[0;32m      4\u001b[0m \u001b[0mtorch\u001b[0m\u001b[1;33m.\u001b[0m\u001b[0mcuda\u001b[0m\u001b[1;33m.\u001b[0m\u001b[0mempty_cache\u001b[0m\u001b[1;33m(\u001b[0m\u001b[1;33m)\u001b[0m\u001b[1;33m\u001b[0m\u001b[1;33m\u001b[0m\u001b[0m\n\u001b[0;32m      5\u001b[0m \u001b[0mimages\u001b[0m\u001b[1;33m,\u001b[0m \u001b[0mlabel\u001b[0m \u001b[1;33m=\u001b[0m \u001b[0mdataiter\u001b[0m\u001b[1;33m.\u001b[0m\u001b[0mnext\u001b[0m\u001b[1;33m(\u001b[0m\u001b[1;33m)\u001b[0m\u001b[1;33m\u001b[0m\u001b[1;33m\u001b[0m\u001b[0m\n\u001b[1;32m----> 6\u001b[1;33m \u001b[0mimages\u001b[0m\u001b[1;33m,\u001b[0m \u001b[0mlabel\u001b[0m \u001b[1;33m=\u001b[0m \u001b[0mimages\u001b[0m\u001b[1;33m.\u001b[0m\u001b[0mto\u001b[0m\u001b[1;33m(\u001b[0m\u001b[0mdevice\u001b[0m\u001b[1;33m)\u001b[0m\u001b[1;33m,\u001b[0m \u001b[0mlabel\u001b[0m\u001b[1;33m.\u001b[0m\u001b[0mto\u001b[0m\u001b[1;33m(\u001b[0m\u001b[0mdevice\u001b[0m\u001b[1;33m)\u001b[0m\u001b[1;33m\u001b[0m\u001b[1;33m\u001b[0m\u001b[0m\n\u001b[0m\u001b[0;32m      7\u001b[0m \u001b[0mout\u001b[0m \u001b[1;33m=\u001b[0m \u001b[0mmodel\u001b[0m\u001b[1;33m(\u001b[0m\u001b[0mimages\u001b[0m\u001b[1;33m)\u001b[0m\u001b[1;33m\u001b[0m\u001b[1;33m\u001b[0m\u001b[0m\n\u001b[0;32m      8\u001b[0m \u001b[1;33m\u001b[0m\u001b[0m\n",
      "\u001b[1;31mNameError\u001b[0m: name 'device' is not defined"
     ],
     "output_type": "error"
    }
   ],
   "source": []
  },
  {
   "cell_type": "code",
   "execution_count": 49,
   "metadata": {},
   "outputs": [],
   "source": [
    "# print(\" % d\" % index for index in range(len(pred[i]) index].item())\n",
    "# print(4)\n",
    "# print('%5d' % j for j in range(24))\n",
    "# print(' '.join('%5d' % index for index in range(3) if label[4].item() == pred[4][index].item()))\n",
    "# print(decode_labels(label[4].item()))\n",
    "# print(decode_labels(pred[4][1].item()))\n",
    "# del pred,images,label\n",
    "torch.cuda.empty_cache()"
   ]
  },
  {
   "cell_type": "code",
   "execution_count": 9,
   "metadata": {
    "_uuid": "541587df1a149bc48ff54503cb70d41d411e61db",
    "pycharm": {}
   },
   "outputs": [],
   "source": [
    "# validation function \n",
    "def validation(lossf, scoref):\n",
    "    model.eval()\n",
    "    loss, score = 0, 0\n",
    "    vlen = len(loader)\n",
    "    for x, y in loader:\n",
    "        x, y = x.to(device), y.to(device)\n",
    "        output = model(x)\n",
    "        loss += lossf(output, y).item()\n",
    "        score += scoref(output, y)[0].item()\n",
    "    model.train()\n",
    "    return loss/vlen, score/vlen"
   ]
  },
  {
   "cell_type": "markdown",
   "metadata": {
    "_uuid": "fd62b930b0de7d62fcdecf5a05c5e609dcc797d5",
    "pycharm": {}
   },
   "source": [
    "### Define metric finction"
   ]
  },
  {
   "cell_type": "code",
   "execution_count": 9,
   "metadata": {
    "_uuid": "bcfe289cea5ab2caac9d6bce085dae515784f3e9",
    "pycharm": {}
   },
   "outputs": [],
   "source": [
    "def mapk(output, target, k=3):\n",
    "    \"\"\"\n",
    "    Computes the mean average precision at k.\n",
    "    \n",
    "    Parameters\n",
    "    ----------\n",
    "    output (torch.Tensor): A Tensor of predicted elements.\n",
    "                           Shape: (N,C)  where C = number of classes, N = batch size\n",
    "    target (torch.int): A Tensor of elements that are to be predicted. \n",
    "                        Shape: (N) where each value is  0≤targets[i]≤C−1\n",
    "    k (int, optional): The maximum number of predicted elements\n",
    "    \n",
    "    Returns\n",
    "    -------\n",
    "    score (torch.float):  The mean average precision at k over the output\n",
    "    \"\"\"\n",
    "    with torch.no_grad():\n",
    "        batch_size = target.size(0)\n",
    "\n",
    "        _, pred = output.topk(k, 1, True, True)\n",
    "        pred = pred.t()\n",
    "        correct = pred.eq(target.view(1, -1).expand_as(pred))\n",
    "\n",
    "        for i in range(k):\n",
    "            correct[i] = correct[i]*(k-i)\n",
    "            \n",
    "        score = correct[:k].view(-1).float().sum(0, keepdim=True)\n",
    "        score.mul_(1.0 / (k * batch_size))\n",
    "        return score"
   ]
  },
  {
   "cell_type": "markdown",
   "metadata": {
    "_uuid": "85e7f15db14909b0571e3c2922b3b3080e2778b2",
    "pycharm": {}
   },
   "source": [
    "### Create model. Loading pretrained version."
   ]
  },
  {
   "cell_type": "code",
   "execution_count": 22,
   "metadata": {},
   "outputs": [
    {
     "name": "stdout",
     "output_type": "stream",
     "text": [
      "<bound method Module.parameters of VGG(\n",
      "  (features): Sequential(\n",
      "    (0): Conv2d(3, 64, kernel_size=(3, 3), stride=(1, 1), padding=(1, 1))\n",
      "    (1): ReLU(inplace)\n",
      "    (2): MaxPool2d(kernel_size=2, stride=2, padding=0, dilation=1, ceil_mode=False)\n",
      "    (3): Conv2d(64, 128, kernel_size=(3, 3), stride=(1, 1), padding=(1, 1))\n",
      "    (4): ReLU(inplace)\n",
      "    (5): MaxPool2d(kernel_size=2, stride=2, padding=0, dilation=1, ceil_mode=False)\n",
      "    (6): Conv2d(128, 256, kernel_size=(3, 3), stride=(1, 1), padding=(1, 1))\n",
      "    (7): ReLU(inplace)\n",
      "    (8): Conv2d(256, 256, kernel_size=(3, 3), stride=(1, 1), padding=(1, 1))\n",
      "    (9): ReLU(inplace)\n",
      "    (10): MaxPool2d(kernel_size=2, stride=2, padding=0, dilation=1, ceil_mode=False)\n",
      "    (11): Conv2d(256, 512, kernel_size=(3, 3), stride=(1, 1), padding=(1, 1))\n",
      "    (12): ReLU(inplace)\n",
      "    (13): Conv2d(512, 512, kernel_size=(3, 3), stride=(1, 1), padding=(1, 1))\n",
      "    (14): ReLU(inplace)\n",
      "    (15): MaxPool2d(kernel_size=2, stride=2, padding=0, dilation=1, ceil_mode=False)\n",
      "    (16): Conv2d(512, 512, kernel_size=(3, 3), stride=(1, 1), padding=(1, 1))\n",
      "    (17): ReLU(inplace)\n",
      "    (18): Conv2d(512, 512, kernel_size=(3, 3), stride=(1, 1), padding=(1, 1))\n",
      "    (19): ReLU(inplace)\n",
      "    (20): MaxPool2d(kernel_size=2, stride=2, padding=0, dilation=1, ceil_mode=False)\n",
      "  )\n",
      "  (avgpool): AdaptiveAvgPool2d(output_size=(7, 7))\n",
      "  (classifier): Sequential(\n",
      "    (0): Linear(in_features=25088, out_features=4096, bias=True)\n",
      "    (1): ReLU(inplace)\n",
      "    (2): Dropout(p=0.5)\n",
      "    (3): Linear(in_features=4096, out_features=4096, bias=True)\n",
      "    (4): ReLU(inplace)\n",
      "    (5): Dropout(p=0.5)\n",
      "    (6): Linear(in_features=4096, out_features=1000, bias=True)\n",
      "  )\n",
      ")>\n"
     ]
    }
   ],
   "source": [
    "# dir(torchvision.models)\n",
    "model = torchvision.models.vgg11()\n",
    "print(model.parameters)"
   ]
  },
  {
   "cell_type": "code",
   "execution_count": 9,
   "metadata": {
    "_uuid": "5c4c981e8162b32a5700d8462208302cfb9c47b3",
    "pycharm": {}
   },
   "outputs": [],
   "source": [
    "model = torchvision.models.vgg11(pretrained = True)\n",
    "def squeeze_weights(m):\n",
    "    m.weight.data = m.weight.data.sum(dim=1)[:,None]\n",
    "    m.in_channels = 1\n",
    "model.features[0].apply(squeeze_weights)\n",
    "\n",
    "num_classes = 340\n",
    "model.classifier[6] = nn.Linear(in_features=4096, out_features=340, bias=True)\n",
    "\n",
    "# model = torchvision.models.squeezenet1_0(pretrained = True)\n",
    "# def squeeze_weights(m):\n",
    "#     m.weight.data = m.weight.data.sum(dim=1)[:,None]\n",
    "#     m.in_channels = 1\n",
    "# model.features[0].apply(squeeze_weights)\n",
    "# num_classes = 340\n",
    "# model.classifier[1] = nn.Conv2d(512, num_classes, (1, 1), (1, 1))\n",
    "\n",
    "# model = torchvision.models.resnet34(pretrained = True)\n",
    "# def squeeze_weights(m):\n",
    "#     m.weight.data = m.weight.data.sum(dim=1)[:,None]\n",
    "#     m.in_channels = 1\n",
    "# model.conv1.apply(squeeze_weights)\n",
    "# num_classes = 340\n",
    "# model.fc = nn.Linear(in_features=512, out_features=num_classes, bias=True)\n",
    "\n"
   ]
  },
  {
   "cell_type": "code",
   "execution_count": 10,
   "metadata": {},
   "outputs": [
    {
     "data": {
      "text/plain": [
       "IncompatibleKeys(missing_keys=[], unexpected_keys=[])"
      ]
     },
     "execution_count": 10,
     "metadata": {},
     "output_type": "execute_result"
    }
   ],
   "source": [
    "# Load  net\n",
    "\n",
    "loadModel = torch.load(os.path.join('./', 'checkpoint_vgg11_SVD.pth'))\n",
    "# print(model.parameters)\n",
    "model.load_state_dict(loadModel)"
   ]
  },
  {
   "cell_type": "markdown",
   "metadata": {
    "_uuid": "28cde2116e987a1f5fefba9a73d4def56f8f07c3",
    "pycharm": {}
   },
   "source": [
    "Change number of inputs channels and number of classes. Details about model and code [here](https://github.com/pytorch/vision/blob/master/torchvision/models/resnet.py)"
   ]
  },
  {
   "cell_type": "code",
   "execution_count": 16,
   "metadata": {
    "_uuid": "1d13f4cbbf05a8d7228771ce1414e30a621a81ae",
    "pycharm": {}
   },
   "outputs": [],
   "source": [
    "# print(model.parameters)\n",
    "# dir(model)"
   ]
  },
  {
   "cell_type": "markdown",
   "metadata": {
    "_uuid": "8ed9f62379af2217af2440c77a097d3c434ca3e8",
    "pycharm": {}
   },
   "source": [
    "Test model using random number. Just checking for service."
   ]
  },
  {
   "cell_type": "code",
   "execution_count": 42,
   "metadata": {
    "_uuid": "e742abf34ddbd5c1b1218a8b8e506f7b41d5ceb1",
    "pycharm": {}
   },
   "outputs": [
    {
     "name": "stdout",
     "output_type": "stream",
     "text": [
      "tensor([[ 0.6572,  1.2911,  0.3821,  ..., -0.2323, -0.2634,  0.4193],\n",
      "        [-0.0289,  0.5510, -0.1026,  ...,  0.1889, -0.1723, -0.3851],\n",
      "        [-0.2829,  0.1223,  0.1129,  ...,  0.2096, -0.0627,  0.1810],\n",
      "        ...,\n",
      "        [ 0.2697,  0.9035, -0.2407,  ...,  0.2567,  0.5287, -0.0471],\n",
      "        [ 0.2975,  1.2920, -0.4543,  ...,  0.1436, -0.3550,  0.2594],\n",
      "        [ 0.3144,  0.5873, -0.2508,  ...,  0.7806,  0.3827,  0.6589]],\n",
      "       grad_fn=<AddmmBackward>)\n",
      "Wall time: 1.97 s\n"
     ]
    }
   ],
   "source": [
    "%%time\n",
    "# test with random data\n",
    "model(torch.randn(12,1,224,224)).size()\n",
    "print(model(torch.randn(12,1,224,224)))"
   ]
  },
  {
   "cell_type": "code",
   "execution_count": 11,
   "metadata": {
    "_uuid": "f4535539aeea5fe64996cd69a4d0555024952a47",
    "pycharm": {}
   },
   "outputs": [],
   "source": [
    "device = 'cuda'\n",
    "model.to(device);\n",
    "# torch.cuda.set_device(1)"
   ]
  },
  {
   "cell_type": "code",
   "execution_count": 12,
   "metadata": {
    "_uuid": "5f9756c44222d039a7cff9886c253c5d3cdc1cb6",
    "pycharm": {}
   },
   "outputs": [],
   "source": [
    "criterion = nn.CrossEntropyLoss()\n",
    "# optimizer = torch.optim.Adam(model.parameters(), lr=0.002, amsgrad=True)\n",
    "optimizer = torch.optim.SGD(model.parameters(), lr = 0.0002, momentum=0.9);\n",
    "# optimizer = torch.optim.Adam(model.parameters(), lr=0.002, betas=(0.9, 0.99))"
   ]
  },
  {
   "cell_type": "code",
   "execution_count": 13,
   "metadata": {
    "_uuid": "df12311a7e01e25c2f969041e050b775acccbe43",
    "pycharm": {}
   },
   "outputs": [],
   "source": [
    "# PyTorch scheduler:\n",
    "# https://pytorch.org/docs/stable/optim.html#how-to-adjust-learning-rate\n",
    "scheduler = torch.optim.lr_scheduler.MultiStepLR(optimizer, milestones=[5000,12000,18000], gamma=0.5)\n",
    "# scheduler = StepLR(optimizer, step_size=30, gamma=0.1)"
   ]
  },
  {
   "cell_type": "code",
   "execution_count": 19,
   "metadata": {},
   "outputs": [],
   "source": [
    "torch.cuda.empty_cache()"
   ]
  },
  {
   "cell_type": "markdown",
   "metadata": {
    "_uuid": "77dbb6e521f2a05062a45ce2211c61179f4263b6",
    "pycharm": {}
   },
   "source": [
    "Training loop with printing information every 1000 iteration"
   ]
  },
  {
   "cell_type": "code",
   "execution_count": 46,
   "metadata": {
    "_uuid": "ce361e3f6370b69b2b74a1f692665ef525c2346f",
    "pycharm": {}
   },
   "outputs": [
    {
     "name": "stdout",
     "output_type": "stream",
     "text": [
      "Iteration 20 -> Train Loss: 5.9060, MAP@3: 0.005\n",
      "Iteration 40 -> Train Loss: 5.8760, MAP@3: 0.002\n",
      "Iteration 60 -> Train Loss: 5.8446, MAP@3: 0.010\n",
      "Iteration 80 -> Train Loss: 5.8536, MAP@3: 0.010\n",
      "Iteration 100 -> Train Loss: 5.8322, MAP@3: 0.008\n",
      "Iteration 120 -> Train Loss: 5.8396, MAP@3: 0.008\n",
      "Iteration 140 -> Train Loss: 5.8329, MAP@3: 0.010\n",
      "Iteration 160 -> Train Loss: 5.8340, MAP@3: 0.007\n",
      "Iteration 180 -> Train Loss: 5.8164, MAP@3: 0.011\n",
      "Iteration 200 -> Train Loss: 5.7997, MAP@3: 0.010\n",
      "Iteration 220 -> Train Loss: 5.8137, MAP@3: 0.010\n",
      "Iteration 240 -> Train Loss: 5.8158, MAP@3: 0.010\n",
      "Iteration 260 -> Train Loss: 5.7984, MAP@3: 0.017\n",
      "Iteration 280 -> Train Loss: 5.7975, MAP@3: 0.014\n",
      "Iteration 300 -> Train Loss: 5.7855, MAP@3: 0.014\n",
      "Iteration 320 -> Train Loss: 5.7884, MAP@3: 0.015\n",
      "Iteration 340 -> Train Loss: 5.7947, MAP@3: 0.008\n",
      "Iteration 360 -> Train Loss: 5.7823, MAP@3: 0.014\n",
      "Iteration 380 -> Train Loss: 5.7915, MAP@3: 0.016\n",
      "Iteration 400 -> Train Loss: 5.7601, MAP@3: 0.015\n",
      "Iteration 420 -> Train Loss: 5.7615, MAP@3: 0.019\n",
      "Iteration 440 -> Train Loss: 5.7630, MAP@3: 0.020\n",
      "Iteration 460 -> Train Loss: 5.7495, MAP@3: 0.026\n",
      "Iteration 480 -> Train Loss: 5.7229, MAP@3: 0.023\n",
      "Iteration 500 -> Train Loss: 5.7157, MAP@3: 0.033\n",
      "Iteration 520 -> Train Loss: 5.7064, MAP@3: 0.022\n",
      "Iteration 540 -> Train Loss: 5.7023, MAP@3: 0.031\n",
      "Iteration 560 -> Train Loss: 5.6657, MAP@3: 0.030\n",
      "Iteration 580 -> Train Loss: 5.6525, MAP@3: 0.028\n",
      "Iteration 600 -> Train Loss: 5.6449, MAP@3: 0.032\n",
      "Iteration 620 -> Train Loss: 5.5955, MAP@3: 0.040\n",
      "Iteration 640 -> Train Loss: 5.5796, MAP@3: 0.043\n",
      "Iteration 660 -> Train Loss: 5.5567, MAP@3: 0.045\n",
      "Iteration 680 -> Train Loss: 5.5259, MAP@3: 0.048\n",
      "Iteration 700 -> Train Loss: 5.4821, MAP@3: 0.052\n",
      "Iteration 720 -> Train Loss: 5.4359, MAP@3: 0.048\n",
      "Iteration 740 -> Train Loss: 5.3342, MAP@3: 0.064\n",
      "Iteration 760 -> Train Loss: 5.3161, MAP@3: 0.054\n",
      "Iteration 780 -> Train Loss: 5.3123, MAP@3: 0.061\n",
      "Iteration 800 -> Train Loss: 5.1748, MAP@3: 0.071\n",
      "Iteration 820 -> Train Loss: 5.1467, MAP@3: 0.081\n",
      "Iteration 840 -> Train Loss: 5.0738, MAP@3: 0.095\n",
      "Iteration 860 -> Train Loss: 5.0344, MAP@3: 0.094\n",
      "Iteration 880 -> Train Loss: 4.9394, MAP@3: 0.105\n",
      "Iteration 900 -> Train Loss: 4.8340, MAP@3: 0.115\n",
      "Iteration 920 -> Train Loss: 4.7678, MAP@3: 0.114\n",
      "Iteration 940 -> Train Loss: 4.7731, MAP@3: 0.113\n",
      "Iteration 960 -> Train Loss: 4.7096, MAP@3: 0.139\n",
      "Iteration 980 -> Train Loss: 4.6201, MAP@3: 0.152\n",
      "Iteration 1000 -> Train Loss: 4.5113, MAP@3: 0.172\n",
      "Iteration 1020 -> Train Loss: 4.5117, MAP@3: 0.159\n",
      "Iteration 1040 -> Train Loss: 4.4458, MAP@3: 0.167\n",
      "Iteration 1060 -> Train Loss: 4.4260, MAP@3: 0.171\n",
      "Iteration 1080 -> Train Loss: 4.3285, MAP@3: 0.197\n",
      "Iteration 1100 -> Train Loss: 4.2787, MAP@3: 0.192\n",
      "Iteration 1120 -> Train Loss: 4.2391, MAP@3: 0.194\n",
      "Iteration 1140 -> Train Loss: 4.2030, MAP@3: 0.207\n",
      "Iteration 1160 -> Train Loss: 4.1581, MAP@3: 0.203\n",
      "Iteration 1180 -> Train Loss: 4.0451, MAP@3: 0.240\n",
      "Iteration 1200 -> Train Loss: 4.0529, MAP@3: 0.230\n",
      "Iteration 1220 -> Train Loss: 3.9601, MAP@3: 0.250\n",
      "Iteration 1240 -> Train Loss: 3.9538, MAP@3: 0.245\n",
      "Iteration 1260 -> Train Loss: 3.9232, MAP@3: 0.252\n",
      "Iteration 1280 -> Train Loss: 3.9283, MAP@3: 0.263\n",
      "Iteration 1300 -> Train Loss: 3.8846, MAP@3: 0.245\n",
      "Iteration 1320 -> Train Loss: 3.7622, MAP@3: 0.268\n",
      "Iteration 1340 -> Train Loss: 3.7530, MAP@3: 0.274\n",
      "Iteration 1360 -> Train Loss: 3.7382, MAP@3: 0.279\n",
      "Iteration 1380 -> Train Loss: 3.8047, MAP@3: 0.283\n",
      "Iteration 1400 -> Train Loss: 3.7763, MAP@3: 0.297\n",
      "Iteration 1420 -> Train Loss: 3.6850, MAP@3: 0.289\n",
      "Iteration 1440 -> Train Loss: 3.6255, MAP@3: 0.321\n",
      "Iteration 1460 -> Train Loss: 3.6783, MAP@3: 0.303\n",
      "Iteration 1480 -> Train Loss: 3.5348, MAP@3: 0.320\n",
      "Iteration 1500 -> Train Loss: 3.5719, MAP@3: 0.320\n",
      "Iteration 1520 -> Train Loss: 3.5854, MAP@3: 0.304\n",
      "Iteration 1540 -> Train Loss: 3.4756, MAP@3: 0.331\n",
      "Iteration 1560 -> Train Loss: 3.3364, MAP@3: 0.352\n",
      "Iteration 1580 -> Train Loss: 3.4528, MAP@3: 0.346\n",
      "Iteration 1600 -> Train Loss: 3.3765, MAP@3: 0.370\n",
      "Iteration 1620 -> Train Loss: 3.3730, MAP@3: 0.373\n",
      "Iteration 1640 -> Train Loss: 3.2907, MAP@3: 0.365\n",
      "Iteration 1660 -> Train Loss: 3.3274, MAP@3: 0.379\n",
      "Iteration 1680 -> Train Loss: 3.2042, MAP@3: 0.402\n",
      "Iteration 1700 -> Train Loss: 3.3439, MAP@3: 0.374\n",
      "Iteration 1720 -> Train Loss: 3.2511, MAP@3: 0.394\n",
      "Iteration 1740 -> Train Loss: 3.3126, MAP@3: 0.358\n",
      "Iteration 1760 -> Train Loss: 3.2279, MAP@3: 0.399\n",
      "Iteration 1780 -> Train Loss: 3.3075, MAP@3: 0.372\n",
      "Iteration 1800 -> Train Loss: 3.2709, MAP@3: 0.375\n",
      "Iteration 1820 -> Train Loss: 3.2653, MAP@3: 0.386\n",
      "Iteration 1840 -> Train Loss: 3.1429, MAP@3: 0.403\n",
      "Iteration 1860 -> Train Loss: 3.1720, MAP@3: 0.394\n",
      "Iteration 1880 -> Train Loss: 3.1118, MAP@3: 0.417\n",
      "Iteration 1900 -> Train Loss: 3.2735, MAP@3: 0.389\n",
      "Iteration 1920 -> Train Loss: 3.1526, MAP@3: 0.403\n",
      "Iteration 1940 -> Train Loss: 3.0396, MAP@3: 0.423\n",
      "Iteration 1960 -> Train Loss: 2.9813, MAP@3: 0.426\n",
      "Iteration 1980 -> Train Loss: 3.1198, MAP@3: 0.410\n",
      "Iteration 2000 -> Train Loss: 3.0788, MAP@3: 0.429\n",
      "Iteration 2020 -> Train Loss: 3.0853, MAP@3: 0.428\n",
      "Iteration 2040 -> Train Loss: 3.0881, MAP@3: 0.418\n",
      "Iteration 2060 -> Train Loss: 3.0570, MAP@3: 0.425\n",
      "Iteration 2080 -> Train Loss: 3.0134, MAP@3: 0.415\n",
      "Iteration 2100 -> Train Loss: 3.0426, MAP@3: 0.432\n",
      "Iteration 2120 -> Train Loss: 2.9319, MAP@3: 0.455\n",
      "Iteration 2140 -> Train Loss: 2.9448, MAP@3: 0.453\n",
      "Iteration 2160 -> Train Loss: 3.0164, MAP@3: 0.425\n",
      "Iteration 2180 -> Train Loss: 2.9726, MAP@3: 0.437\n",
      "Iteration 2200 -> Train Loss: 2.9460, MAP@3: 0.445\n",
      "Iteration 2220 -> Train Loss: 2.9135, MAP@3: 0.451\n",
      "Iteration 2240 -> Train Loss: 2.9094, MAP@3: 0.444\n",
      "Iteration 2260 -> Train Loss: 2.9549, MAP@3: 0.447\n",
      "Iteration 2280 -> Train Loss: 2.8385, MAP@3: 0.453\n",
      "Iteration 2300 -> Train Loss: 2.8760, MAP@3: 0.464\n",
      "Iteration 2320 -> Train Loss: 2.8655, MAP@3: 0.461\n",
      "Iteration 2340 -> Train Loss: 2.8484, MAP@3: 0.462\n",
      "Iteration 2360 -> Train Loss: 2.8679, MAP@3: 0.450\n",
      "Iteration 2380 -> Train Loss: 2.8370, MAP@3: 0.459\n",
      "Iteration 2400 -> Train Loss: 2.8494, MAP@3: 0.472\n",
      "Iteration 2420 -> Train Loss: 2.7944, MAP@3: 0.476\n",
      "Iteration 2440 -> Train Loss: 2.8946, MAP@3: 0.456\n",
      "Iteration 2460 -> Train Loss: 2.7923, MAP@3: 0.479\n",
      "Iteration 2480 -> Train Loss: 2.7892, MAP@3: 0.480\n",
      "Iteration 2500 -> Train Loss: 2.8498, MAP@3: 0.470\n",
      "Iteration 2520 -> Train Loss: 2.8098, MAP@3: 0.468\n",
      "Iteration 2540 -> Train Loss: 2.6561, MAP@3: 0.503\n",
      "Iteration 2560 -> Train Loss: 2.8179, MAP@3: 0.472\n",
      "Iteration 2580 -> Train Loss: 2.7590, MAP@3: 0.483\n",
      "Iteration 2600 -> Train Loss: 2.7967, MAP@3: 0.493\n",
      "Iteration 2620 -> Train Loss: 2.6633, MAP@3: 0.484\n",
      "Iteration 2640 -> Train Loss: 2.7845, MAP@3: 0.487\n",
      "Iteration 2660 -> Train Loss: 2.6902, MAP@3: 0.493\n",
      "Iteration 2680 -> Train Loss: 2.6162, MAP@3: 0.516\n",
      "Iteration 2700 -> Train Loss: 2.7253, MAP@3: 0.484\n",
      "Iteration 2720 -> Train Loss: 2.7081, MAP@3: 0.488\n",
      "Iteration 2740 -> Train Loss: 2.5744, MAP@3: 0.502\n",
      "Iteration 2760 -> Train Loss: 2.6909, MAP@3: 0.496\n",
      "Iteration 2780 -> Train Loss: 2.6838, MAP@3: 0.492\n",
      "Iteration 2800 -> Train Loss: 2.5693, MAP@3: 0.527\n",
      "Iteration 2820 -> Train Loss: 2.5915, MAP@3: 0.503\n",
      "Iteration 2840 -> Train Loss: 2.6946, MAP@3: 0.488\n",
      "Iteration 2860 -> Train Loss: 2.6439, MAP@3: 0.510\n",
      "Iteration 2880 -> Train Loss: 2.6958, MAP@3: 0.494\n",
      "Iteration 2900 -> Train Loss: 2.6786, MAP@3: 0.495\n",
      "Iteration 2920 -> Train Loss: 2.6460, MAP@3: 0.511\n",
      "Iteration 2940 -> Train Loss: 2.5762, MAP@3: 0.515\n",
      "Iteration 2960 -> Train Loss: 2.6103, MAP@3: 0.510\n",
      "Iteration 2980 -> Train Loss: 2.5583, MAP@3: 0.504\n",
      "Iteration 3000 -> Train Loss: 2.5672, MAP@3: 0.528\n",
      "Iteration 3020 -> Train Loss: 2.5846, MAP@3: 0.515\n",
      "Iteration 3040 -> Train Loss: 2.6537, MAP@3: 0.497\n",
      "Iteration 3060 -> Train Loss: 2.6855, MAP@3: 0.505\n",
      "Iteration 3080 -> Train Loss: 2.5323, MAP@3: 0.529\n",
      "Iteration 3100 -> Train Loss: 2.5106, MAP@3: 0.533\n",
      "Iteration 3120 -> Train Loss: 2.5148, MAP@3: 0.524\n",
      "Iteration 3140 -> Train Loss: 2.5513, MAP@3: 0.524\n",
      "Iteration 3160 -> Train Loss: 2.4495, MAP@3: 0.540\n",
      "Iteration 3180 -> Train Loss: 2.4632, MAP@3: 0.533\n",
      "Iteration 3200 -> Train Loss: 2.6191, MAP@3: 0.513\n",
      "Iteration 3220 -> Train Loss: 2.5634, MAP@3: 0.517\n"
     ]
    },
    {
     "name": "stdout",
     "output_type": "stream",
     "text": [
      "Iteration 3240 -> Train Loss: 2.5550, MAP@3: 0.521\n",
      "Iteration 3260 -> Train Loss: 2.4942, MAP@3: 0.530\n",
      "Iteration 3280 -> Train Loss: 2.5107, MAP@3: 0.547\n",
      "Iteration 3300 -> Train Loss: 2.4838, MAP@3: 0.535\n",
      "Iteration 3320 -> Train Loss: 2.5877, MAP@3: 0.524\n",
      "Iteration 3340 -> Train Loss: 2.4232, MAP@3: 0.561\n",
      "Iteration 3360 -> Train Loss: 2.4090, MAP@3: 0.549\n",
      "Iteration 3380 -> Train Loss: 2.5110, MAP@3: 0.531\n",
      "Iteration 3400 -> Train Loss: 2.5015, MAP@3: 0.533\n",
      "Iteration 3420 -> Train Loss: 2.4339, MAP@3: 0.538\n",
      "Iteration 3440 -> Train Loss: 2.4634, MAP@3: 0.542\n",
      "Iteration 3460 -> Train Loss: 2.4584, MAP@3: 0.540\n",
      "Iteration 3480 -> Train Loss: 2.4020, MAP@3: 0.551\n",
      "Iteration 3500 -> Train Loss: 2.3680, MAP@3: 0.556\n",
      "Iteration 3520 -> Train Loss: 2.4159, MAP@3: 0.559\n",
      "Iteration 3540 -> Train Loss: 2.5031, MAP@3: 0.535\n",
      "Iteration 3560 -> Train Loss: 2.4180, MAP@3: 0.552\n",
      "Iteration 3580 -> Train Loss: 2.4764, MAP@3: 0.543\n",
      "Iteration 3600 -> Train Loss: 2.3609, MAP@3: 0.578\n",
      "Iteration 3620 -> Train Loss: 2.4182, MAP@3: 0.552\n",
      "Iteration 3640 -> Train Loss: 2.3935, MAP@3: 0.557\n",
      "Iteration 3660 -> Train Loss: 2.3849, MAP@3: 0.570\n",
      "Iteration 3680 -> Train Loss: 2.4044, MAP@3: 0.569\n",
      "Iteration 3700 -> Train Loss: 2.3445, MAP@3: 0.566\n",
      "Iteration 3720 -> Train Loss: 2.3577, MAP@3: 0.563\n",
      "Iteration 3740 -> Train Loss: 2.3587, MAP@3: 0.556\n",
      "Iteration 3760 -> Train Loss: 2.3010, MAP@3: 0.578\n",
      "Iteration 3780 -> Train Loss: 2.3478, MAP@3: 0.558\n",
      "Iteration 3800 -> Train Loss: 2.4469, MAP@3: 0.552\n",
      "Iteration 3820 -> Train Loss: 2.2801, MAP@3: 0.574\n",
      "Iteration 3840 -> Train Loss: 2.3417, MAP@3: 0.567\n",
      "Iteration 3860 -> Train Loss: 2.3286, MAP@3: 0.554\n",
      "Iteration 3880 -> Train Loss: 2.3237, MAP@3: 0.559\n",
      "Iteration 3900 -> Train Loss: 2.5278, MAP@3: 0.542\n",
      "Iteration 3920 -> Train Loss: 2.3099, MAP@3: 0.569\n",
      "Iteration 3940 -> Train Loss: 2.4010, MAP@3: 0.555\n",
      "Iteration 3960 -> Train Loss: 2.4062, MAP@3: 0.555\n",
      "Iteration 3980 -> Train Loss: 2.2959, MAP@3: 0.586\n",
      "Iteration 4000 -> Train Loss: 2.4692, MAP@3: 0.553\n",
      "Iteration 4020 -> Train Loss: 2.2999, MAP@3: 0.558\n",
      "Iteration 4040 -> Train Loss: 2.3778, MAP@3: 0.553\n",
      "Iteration 4060 -> Train Loss: 2.2448, MAP@3: 0.591\n",
      "Iteration 4080 -> Train Loss: 2.3070, MAP@3: 0.573\n",
      "Iteration 4100 -> Train Loss: 2.3572, MAP@3: 0.570\n",
      "Iteration 4120 -> Train Loss: 2.2547, MAP@3: 0.596\n",
      "Iteration 4140 -> Train Loss: 2.2359, MAP@3: 0.590\n",
      "Iteration 4160 -> Train Loss: 2.3994, MAP@3: 0.560\n",
      "Iteration 4180 -> Train Loss: 2.3597, MAP@3: 0.553\n",
      "Iteration 4200 -> Train Loss: 2.2716, MAP@3: 0.590\n",
      "Iteration 4220 -> Train Loss: 2.1671, MAP@3: 0.596\n",
      "Iteration 4240 -> Train Loss: 2.2477, MAP@3: 0.585\n",
      "Iteration 4260 -> Train Loss: 2.2855, MAP@3: 0.579\n",
      "Iteration 4280 -> Train Loss: 2.3167, MAP@3: 0.586\n",
      "Iteration 4300 -> Train Loss: 2.2744, MAP@3: 0.582\n",
      "Iteration 4320 -> Train Loss: 2.2966, MAP@3: 0.586\n",
      "Iteration 4340 -> Train Loss: 2.2658, MAP@3: 0.578\n",
      "Iteration 4360 -> Train Loss: 2.2513, MAP@3: 0.590\n",
      "Iteration 4380 -> Train Loss: 2.3302, MAP@3: 0.572\n",
      "Iteration 4400 -> Train Loss: 2.3366, MAP@3: 0.571\n",
      "Iteration 4420 -> Train Loss: 2.2334, MAP@3: 0.588\n",
      "Iteration 4440 -> Train Loss: 2.2074, MAP@3: 0.590\n",
      "Iteration 4460 -> Train Loss: 2.2562, MAP@3: 0.583\n",
      "Iteration 4480 -> Train Loss: 2.0927, MAP@3: 0.611\n",
      "Iteration 4500 -> Train Loss: 2.2963, MAP@3: 0.588\n",
      "Iteration 4520 -> Train Loss: 2.3269, MAP@3: 0.567\n",
      "Iteration 4540 -> Train Loss: 2.2009, MAP@3: 0.599\n",
      "Iteration 4560 -> Train Loss: 2.2481, MAP@3: 0.585\n",
      "Iteration 4580 -> Train Loss: 2.1917, MAP@3: 0.600\n",
      "Iteration 4600 -> Train Loss: 2.2079, MAP@3: 0.585\n",
      "Iteration 4620 -> Train Loss: 2.1430, MAP@3: 0.607\n",
      "Iteration 4640 -> Train Loss: 2.2670, MAP@3: 0.576\n",
      "Iteration 4660 -> Train Loss: 2.2705, MAP@3: 0.596\n",
      "Iteration 4680 -> Train Loss: 2.2805, MAP@3: 0.587\n",
      "Iteration 4700 -> Train Loss: 2.3212, MAP@3: 0.578\n",
      "Iteration 4720 -> Train Loss: 2.2476, MAP@3: 0.598\n",
      "Iteration 4740 -> Train Loss: 2.1829, MAP@3: 0.591\n",
      "Iteration 4760 -> Train Loss: 2.1757, MAP@3: 0.595\n",
      "Iteration 4780 -> Train Loss: 2.1432, MAP@3: 0.598\n",
      "Iteration 4800 -> Train Loss: 2.2177, MAP@3: 0.589\n",
      "Iteration 4820 -> Train Loss: 2.2086, MAP@3: 0.602\n",
      "Iteration 4840 -> Train Loss: 2.2628, MAP@3: 0.587\n",
      "Iteration 4860 -> Train Loss: 2.2360, MAP@3: 0.585\n",
      "Iteration 4880 -> Train Loss: 2.2048, MAP@3: 0.594\n",
      "Iteration 4900 -> Train Loss: 2.0915, MAP@3: 0.620\n",
      "Iteration 4920 -> Train Loss: 2.1955, MAP@3: 0.595\n",
      "Iteration 4940 -> Train Loss: 2.2492, MAP@3: 0.570\n",
      "Iteration 4960 -> Train Loss: 2.1729, MAP@3: 0.603\n",
      "Iteration 4980 -> Train Loss: 2.0909, MAP@3: 0.604\n",
      "Iteration 5000 -> Train Loss: 2.2716, MAP@3: 0.576\n",
      "Iteration 5020 -> Train Loss: 2.2210, MAP@3: 0.596\n",
      "Iteration 5040 -> Train Loss: 2.1567, MAP@3: 0.609\n",
      "Iteration 5060 -> Train Loss: 2.1865, MAP@3: 0.603\n",
      "Iteration 5080 -> Train Loss: 2.0806, MAP@3: 0.625\n",
      "Iteration 5100 -> Train Loss: 2.1248, MAP@3: 0.596\n",
      "Iteration 5120 -> Train Loss: 2.1052, MAP@3: 0.626\n",
      "Iteration 5140 -> Train Loss: 2.1436, MAP@3: 0.613\n",
      "Iteration 5160 -> Train Loss: 2.0986, MAP@3: 0.616\n",
      "Iteration 5180 -> Train Loss: 2.0413, MAP@3: 0.631\n",
      "Iteration 5200 -> Train Loss: 2.1626, MAP@3: 0.602\n",
      "Iteration 5220 -> Train Loss: 2.1859, MAP@3: 0.596\n",
      "Iteration 5240 -> Train Loss: 2.2111, MAP@3: 0.592\n",
      "Iteration 5260 -> Train Loss: 2.1901, MAP@3: 0.594\n",
      "Iteration 5280 -> Train Loss: 2.1550, MAP@3: 0.605\n",
      "Iteration 5300 -> Train Loss: 2.1969, MAP@3: 0.600\n",
      "Iteration 5320 -> Train Loss: 2.1156, MAP@3: 0.613\n",
      "Iteration 5340 -> Train Loss: 2.0251, MAP@3: 0.625\n",
      "Iteration 5360 -> Train Loss: 2.3135, MAP@3: 0.587\n",
      "Iteration 5380 -> Train Loss: 2.0816, MAP@3: 0.614\n",
      "Iteration 5400 -> Train Loss: 2.0825, MAP@3: 0.607\n",
      "Iteration 5420 -> Train Loss: 2.1919, MAP@3: 0.590\n",
      "Iteration 5440 -> Train Loss: 2.1032, MAP@3: 0.617\n",
      "Iteration 5460 -> Train Loss: 2.1033, MAP@3: 0.617\n",
      "Iteration 5480 -> Train Loss: 2.1209, MAP@3: 0.608\n",
      "Iteration 5500 -> Train Loss: 2.1060, MAP@3: 0.622\n",
      "Iteration 5520 -> Train Loss: 2.0355, MAP@3: 0.627\n",
      "Iteration 5540 -> Train Loss: 2.2295, MAP@3: 0.603\n",
      "Iteration 5560 -> Train Loss: 2.1001, MAP@3: 0.617\n",
      "Iteration 5580 -> Train Loss: 2.0806, MAP@3: 0.609\n",
      "Iteration 5600 -> Train Loss: 2.0678, MAP@3: 0.613\n",
      "Iteration 5620 -> Train Loss: 2.0969, MAP@3: 0.614\n",
      "Iteration 5640 -> Train Loss: 2.1226, MAP@3: 0.606\n",
      "Iteration 5660 -> Train Loss: 2.1874, MAP@3: 0.603\n",
      "Iteration 5680 -> Train Loss: 2.1310, MAP@3: 0.622\n",
      "Iteration 5700 -> Train Loss: 2.1580, MAP@3: 0.604\n",
      "Iteration 5720 -> Train Loss: 2.0631, MAP@3: 0.618\n",
      "Iteration 5740 -> Train Loss: 2.0846, MAP@3: 0.614\n",
      "Iteration 5760 -> Train Loss: 2.0709, MAP@3: 0.613\n",
      "Iteration 5780 -> Train Loss: 2.0567, MAP@3: 0.633\n",
      "Iteration 5800 -> Train Loss: 2.1032, MAP@3: 0.608\n",
      "Iteration 5820 -> Train Loss: 2.1377, MAP@3: 0.607\n",
      "Iteration 5840 -> Train Loss: 2.0619, MAP@3: 0.624\n",
      "Iteration 5860 -> Train Loss: 2.0345, MAP@3: 0.631\n",
      "Iteration 5880 -> Train Loss: 2.0805, MAP@3: 0.619\n",
      "Iteration 5900 -> Train Loss: 2.1514, MAP@3: 0.611\n",
      "Iteration 5920 -> Train Loss: 2.1685, MAP@3: 0.601\n",
      "Iteration 5940 -> Train Loss: 2.0198, MAP@3: 0.627\n",
      "Iteration 5960 -> Train Loss: 2.0023, MAP@3: 0.644\n",
      "Iteration 5980 -> Train Loss: 2.1086, MAP@3: 0.627\n",
      "Iteration 6000 -> Train Loss: 2.1309, MAP@3: 0.614\n",
      "Iteration 6020 -> Train Loss: 2.0470, MAP@3: 0.621\n",
      "Iteration 6040 -> Train Loss: 2.0302, MAP@3: 0.633\n",
      "Iteration 6060 -> Train Loss: 1.9956, MAP@3: 0.641\n",
      "Iteration 6080 -> Train Loss: 2.1096, MAP@3: 0.616\n",
      "Iteration 6100 -> Train Loss: 2.0260, MAP@3: 0.631\n",
      "Iteration 6120 -> Train Loss: 1.9875, MAP@3: 0.647\n",
      "Iteration 6140 -> Train Loss: 2.1561, MAP@3: 0.595\n",
      "Iteration 6160 -> Train Loss: 1.9877, MAP@3: 0.644\n",
      "Iteration 6180 -> Train Loss: 2.0347, MAP@3: 0.628\n",
      "Iteration 6200 -> Train Loss: 2.0713, MAP@3: 0.623\n",
      "Iteration 6220 -> Train Loss: 2.0749, MAP@3: 0.615\n",
      "Iteration 6240 -> Train Loss: 2.0820, MAP@3: 0.629\n",
      "Iteration 6260 -> Train Loss: 2.0144, MAP@3: 0.624\n",
      "Iteration 6280 -> Train Loss: 2.0037, MAP@3: 0.639\n",
      "Iteration 6300 -> Train Loss: 2.1646, MAP@3: 0.609\n",
      "Iteration 6320 -> Train Loss: 2.0893, MAP@3: 0.629\n",
      "Iteration 6340 -> Train Loss: 2.0944, MAP@3: 0.614\n",
      "Iteration 6360 -> Train Loss: 1.9832, MAP@3: 0.621\n",
      "Iteration 6380 -> Train Loss: 2.0160, MAP@3: 0.638\n",
      "Iteration 6400 -> Train Loss: 2.0482, MAP@3: 0.626\n",
      "Iteration 6420 -> Train Loss: 2.0550, MAP@3: 0.625\n"
     ]
    },
    {
     "name": "stdout",
     "output_type": "stream",
     "text": [
      "Iteration 6440 -> Train Loss: 1.9751, MAP@3: 0.634\n",
      "Iteration 6460 -> Train Loss: 2.0833, MAP@3: 0.619\n",
      "Iteration 6480 -> Train Loss: 2.0190, MAP@3: 0.621\n",
      "Iteration 6500 -> Train Loss: 1.9956, MAP@3: 0.623\n",
      "Iteration 6520 -> Train Loss: 2.0316, MAP@3: 0.625\n",
      "Iteration 6540 -> Train Loss: 2.0463, MAP@3: 0.621\n",
      "Iteration 6560 -> Train Loss: 2.0810, MAP@3: 0.607\n",
      "Iteration 6580 -> Train Loss: 2.0986, MAP@3: 0.630\n",
      "Iteration 6600 -> Train Loss: 2.0505, MAP@3: 0.629\n",
      "Iteration 6620 -> Train Loss: 2.1437, MAP@3: 0.609\n",
      "Iteration 6640 -> Train Loss: 2.0398, MAP@3: 0.625\n",
      "Iteration 6660 -> Train Loss: 1.9409, MAP@3: 0.654\n",
      "Iteration 6680 -> Train Loss: 2.0060, MAP@3: 0.637\n",
      "Iteration 6700 -> Train Loss: 2.0101, MAP@3: 0.643\n",
      "Iteration 6720 -> Train Loss: 2.0384, MAP@3: 0.621\n",
      "Iteration 6740 -> Train Loss: 2.1154, MAP@3: 0.623\n",
      "Iteration 6760 -> Train Loss: 2.0579, MAP@3: 0.626\n",
      "Iteration 6780 -> Train Loss: 1.9992, MAP@3: 0.641\n",
      "Iteration 6800 -> Train Loss: 2.0445, MAP@3: 0.625\n",
      "Iteration 6820 -> Train Loss: 2.0102, MAP@3: 0.636\n",
      "Iteration 6840 -> Train Loss: 2.0037, MAP@3: 0.627\n",
      "Iteration 6860 -> Train Loss: 2.0066, MAP@3: 0.621\n",
      "Iteration 6880 -> Train Loss: 2.1421, MAP@3: 0.611\n",
      "Iteration 6900 -> Train Loss: 1.9581, MAP@3: 0.642\n",
      "Iteration 6920 -> Train Loss: 2.0833, MAP@3: 0.626\n",
      "Iteration 6940 -> Train Loss: 2.0636, MAP@3: 0.621\n",
      "Iteration 6960 -> Train Loss: 2.0187, MAP@3: 0.622\n",
      "Iteration 6980 -> Train Loss: 2.0198, MAP@3: 0.640\n",
      "Iteration 7000 -> Train Loss: 2.0352, MAP@3: 0.629\n",
      "Iteration 7020 -> Train Loss: 1.9683, MAP@3: 0.636\n",
      "Iteration 7040 -> Train Loss: 1.9879, MAP@3: 0.646\n",
      "Iteration 7060 -> Train Loss: 1.9220, MAP@3: 0.649\n",
      "Iteration 7080 -> Train Loss: 1.9164, MAP@3: 0.645\n",
      "Iteration 7100 -> Train Loss: 2.0696, MAP@3: 0.622\n",
      "Iteration 7120 -> Train Loss: 2.0146, MAP@3: 0.634\n",
      "Iteration 7140 -> Train Loss: 1.9997, MAP@3: 0.637\n",
      "Iteration 7160 -> Train Loss: 1.9911, MAP@3: 0.639\n",
      "Iteration 7180 -> Train Loss: 2.0851, MAP@3: 0.620\n",
      "Iteration 7200 -> Train Loss: 1.9902, MAP@3: 0.639\n",
      "Iteration 7220 -> Train Loss: 2.0801, MAP@3: 0.616\n",
      "Iteration 7240 -> Train Loss: 1.9607, MAP@3: 0.657\n",
      "Iteration 7260 -> Train Loss: 1.9278, MAP@3: 0.655\n",
      "Iteration 7280 -> Train Loss: 1.9870, MAP@3: 0.646\n",
      "Iteration 7300 -> Train Loss: 2.0412, MAP@3: 0.621\n",
      "Iteration 7320 -> Train Loss: 2.0880, MAP@3: 0.633\n",
      "Iteration 7340 -> Train Loss: 1.9812, MAP@3: 0.632\n",
      "Iteration 7360 -> Train Loss: 1.9851, MAP@3: 0.640\n",
      "Iteration 7380 -> Train Loss: 2.0754, MAP@3: 0.636\n",
      "Iteration 7400 -> Train Loss: 2.0046, MAP@3: 0.635\n",
      "Iteration 7420 -> Train Loss: 1.9852, MAP@3: 0.641\n",
      "Iteration 7440 -> Train Loss: 2.0614, MAP@3: 0.620\n",
      "Iteration 7460 -> Train Loss: 2.0424, MAP@3: 0.635\n",
      "Iteration 7480 -> Train Loss: 1.9815, MAP@3: 0.636\n",
      "Iteration 7500 -> Train Loss: 1.9549, MAP@3: 0.640\n",
      "Iteration 7520 -> Train Loss: 2.0797, MAP@3: 0.625\n",
      "Iteration 7540 -> Train Loss: 2.0190, MAP@3: 0.630\n",
      "Iteration 7560 -> Train Loss: 1.9447, MAP@3: 0.638\n",
      "Iteration 7580 -> Train Loss: 2.0605, MAP@3: 0.635\n",
      "Iteration 7600 -> Train Loss: 1.9469, MAP@3: 0.647\n",
      "Iteration 7620 -> Train Loss: 2.0866, MAP@3: 0.620\n",
      "Iteration 7640 -> Train Loss: 1.8791, MAP@3: 0.661\n",
      "Iteration 7660 -> Train Loss: 2.0294, MAP@3: 0.627\n",
      "Iteration 7680 -> Train Loss: 2.0060, MAP@3: 0.633\n",
      "Iteration 7700 -> Train Loss: 1.9997, MAP@3: 0.640\n",
      "Iteration 7720 -> Train Loss: 1.9680, MAP@3: 0.643\n",
      "Iteration 7740 -> Train Loss: 1.9944, MAP@3: 0.635\n",
      "Iteration 7760 -> Train Loss: 2.0281, MAP@3: 0.628\n",
      "Iteration 7780 -> Train Loss: 2.0246, MAP@3: 0.636\n",
      "Iteration 7800 -> Train Loss: 2.0591, MAP@3: 0.623\n",
      "Iteration 7820 -> Train Loss: 1.9144, MAP@3: 0.647\n",
      "Iteration 7840 -> Train Loss: 2.0376, MAP@3: 0.641\n",
      "Iteration 7860 -> Train Loss: 1.9234, MAP@3: 0.654\n",
      "Iteration 7880 -> Train Loss: 1.9940, MAP@3: 0.624\n",
      "Iteration 7900 -> Train Loss: 2.0083, MAP@3: 0.639\n",
      "Iteration 7920 -> Train Loss: 2.0122, MAP@3: 0.636\n",
      "Iteration 7940 -> Train Loss: 2.0460, MAP@3: 0.639\n",
      "Iteration 7960 -> Train Loss: 1.9578, MAP@3: 0.645\n",
      "Iteration 7980 -> Train Loss: 1.9664, MAP@3: 0.651\n",
      "Iteration 8000 -> Train Loss: 2.0778, MAP@3: 0.632\n",
      "Iteration 8020 -> Train Loss: 1.9298, MAP@3: 0.649\n",
      "Iteration 8040 -> Train Loss: 1.8928, MAP@3: 0.666\n",
      "Iteration 8060 -> Train Loss: 1.9743, MAP@3: 0.650\n",
      "Iteration 8080 -> Train Loss: 1.9555, MAP@3: 0.649\n",
      "Iteration 8100 -> Train Loss: 1.9357, MAP@3: 0.641\n",
      "Iteration 8120 -> Train Loss: 1.9886, MAP@3: 0.645\n",
      "Iteration 8140 -> Train Loss: 2.0075, MAP@3: 0.646\n",
      "Iteration 8160 -> Train Loss: 1.9805, MAP@3: 0.639\n",
      "Iteration 8180 -> Train Loss: 2.0275, MAP@3: 0.635\n",
      "Iteration 8200 -> Train Loss: 1.9522, MAP@3: 0.649\n",
      "Iteration 8220 -> Train Loss: 1.9640, MAP@3: 0.651\n",
      "Iteration 8240 -> Train Loss: 1.9138, MAP@3: 0.656\n",
      "Iteration 8260 -> Train Loss: 1.9913, MAP@3: 0.634\n",
      "Iteration 8280 -> Train Loss: 1.9317, MAP@3: 0.646\n",
      "Iteration 8300 -> Train Loss: 1.9159, MAP@3: 0.661\n",
      "Iteration 8320 -> Train Loss: 1.9028, MAP@3: 0.656\n",
      "Iteration 8340 -> Train Loss: 1.9001, MAP@3: 0.651\n",
      "Iteration 8360 -> Train Loss: 1.9550, MAP@3: 0.648\n",
      "Iteration 8380 -> Train Loss: 1.9490, MAP@3: 0.646\n",
      "Iteration 8400 -> Train Loss: 1.9532, MAP@3: 0.660\n",
      "Iteration 8420 -> Train Loss: 2.0043, MAP@3: 0.627\n",
      "Iteration 8440 -> Train Loss: 1.9075, MAP@3: 0.643\n",
      "Iteration 8460 -> Train Loss: 1.8575, MAP@3: 0.660\n",
      "Iteration 8480 -> Train Loss: 1.9085, MAP@3: 0.664\n",
      "Iteration 8500 -> Train Loss: 1.9401, MAP@3: 0.642\n",
      "Iteration 8520 -> Train Loss: 1.9205, MAP@3: 0.656\n",
      "Iteration 8540 -> Train Loss: 2.0146, MAP@3: 0.641\n",
      "Iteration 8560 -> Train Loss: 1.8196, MAP@3: 0.672\n",
      "Iteration 8580 -> Train Loss: 1.9603, MAP@3: 0.644\n",
      "Iteration 8600 -> Train Loss: 1.9376, MAP@3: 0.653\n",
      "Iteration 8620 -> Train Loss: 1.9618, MAP@3: 0.640\n",
      "Iteration 8640 -> Train Loss: 1.9256, MAP@3: 0.643\n",
      "Iteration 8660 -> Train Loss: 1.9824, MAP@3: 0.651\n",
      "Iteration 8680 -> Train Loss: 1.8998, MAP@3: 0.652\n",
      "Iteration 8700 -> Train Loss: 1.8724, MAP@3: 0.665\n",
      "Iteration 8720 -> Train Loss: 1.8883, MAP@3: 0.663\n",
      "Iteration 8740 -> Train Loss: 1.9371, MAP@3: 0.665\n",
      "Iteration 8760 -> Train Loss: 2.0214, MAP@3: 0.634\n",
      "Iteration 8780 -> Train Loss: 1.9420, MAP@3: 0.645\n",
      "Iteration 8800 -> Train Loss: 1.9612, MAP@3: 0.645\n",
      "Iteration 8820 -> Train Loss: 2.0069, MAP@3: 0.635\n",
      "Iteration 8840 -> Train Loss: 1.8995, MAP@3: 0.656\n",
      "Iteration 8860 -> Train Loss: 1.9355, MAP@3: 0.659\n",
      "Iteration 8880 -> Train Loss: 1.8389, MAP@3: 0.667\n",
      "Iteration 8900 -> Train Loss: 1.8588, MAP@3: 0.658\n",
      "Iteration 8920 -> Train Loss: 1.8502, MAP@3: 0.673\n",
      "Iteration 8940 -> Train Loss: 2.0086, MAP@3: 0.630\n",
      "Iteration 8960 -> Train Loss: 1.9883, MAP@3: 0.641\n",
      "Iteration 8980 -> Train Loss: 1.9713, MAP@3: 0.649\n",
      "Iteration 9000 -> Train Loss: 1.9258, MAP@3: 0.649\n",
      "Iteration 9020 -> Train Loss: 1.8597, MAP@3: 0.658\n",
      "Iteration 9040 -> Train Loss: 1.9947, MAP@3: 0.629\n",
      "Iteration 9060 -> Train Loss: 2.0385, MAP@3: 0.643\n",
      "Iteration 9080 -> Train Loss: 1.9722, MAP@3: 0.644\n",
      "Iteration 9100 -> Train Loss: 1.9451, MAP@3: 0.654\n",
      "Iteration 9120 -> Train Loss: 1.9043, MAP@3: 0.643\n",
      "Iteration 9140 -> Train Loss: 1.9464, MAP@3: 0.653\n",
      "Iteration 9160 -> Train Loss: 1.9772, MAP@3: 0.647\n",
      "Iteration 9180 -> Train Loss: 1.9113, MAP@3: 0.648\n",
      "Iteration 9200 -> Train Loss: 1.9521, MAP@3: 0.656\n",
      "Iteration 9220 -> Train Loss: 1.8910, MAP@3: 0.659\n",
      "Iteration 9240 -> Train Loss: 1.8396, MAP@3: 0.661\n",
      "Iteration 9260 -> Train Loss: 1.8415, MAP@3: 0.658\n",
      "Iteration 9280 -> Train Loss: 2.0467, MAP@3: 0.623\n",
      "Iteration 9300 -> Train Loss: 1.8672, MAP@3: 0.668\n",
      "Iteration 9320 -> Train Loss: 1.8503, MAP@3: 0.671\n",
      "Iteration 9340 -> Train Loss: 1.8012, MAP@3: 0.678\n",
      "Iteration 9360 -> Train Loss: 1.9305, MAP@3: 0.661\n",
      "Iteration 9380 -> Train Loss: 1.9003, MAP@3: 0.654\n",
      "Iteration 9400 -> Train Loss: 1.8479, MAP@3: 0.671\n",
      "Iteration 9420 -> Train Loss: 1.9087, MAP@3: 0.647\n",
      "Iteration 9440 -> Train Loss: 1.9260, MAP@3: 0.658\n",
      "Iteration 9460 -> Train Loss: 1.9064, MAP@3: 0.655\n",
      "Iteration 9480 -> Train Loss: 1.9000, MAP@3: 0.649\n",
      "Iteration 9500 -> Train Loss: 1.8896, MAP@3: 0.658\n",
      "Iteration 9520 -> Train Loss: 1.8805, MAP@3: 0.652\n",
      "Iteration 9540 -> Train Loss: 1.9655, MAP@3: 0.642\n",
      "Iteration 9560 -> Train Loss: 1.8181, MAP@3: 0.678\n",
      "Iteration 9580 -> Train Loss: 1.8776, MAP@3: 0.663\n",
      "Iteration 9600 -> Train Loss: 1.9281, MAP@3: 0.660\n",
      "Iteration 9620 -> Train Loss: 1.9431, MAP@3: 0.656\n"
     ]
    },
    {
     "name": "stdout",
     "output_type": "stream",
     "text": [
      "Iteration 9640 -> Train Loss: 1.9525, MAP@3: 0.659\n",
      "Iteration 9660 -> Train Loss: 1.8323, MAP@3: 0.665\n",
      "Iteration 9680 -> Train Loss: 1.9533, MAP@3: 0.654\n",
      "Iteration 9700 -> Train Loss: 2.0230, MAP@3: 0.637\n",
      "Iteration 9720 -> Train Loss: 1.9043, MAP@3: 0.655\n",
      "Iteration 9740 -> Train Loss: 1.8139, MAP@3: 0.675\n",
      "Iteration 9760 -> Train Loss: 1.7938, MAP@3: 0.681\n",
      "Iteration 9780 -> Train Loss: 1.9184, MAP@3: 0.648\n",
      "Iteration 9800 -> Train Loss: 1.8743, MAP@3: 0.658\n",
      "Iteration 9820 -> Train Loss: 1.9397, MAP@3: 0.647\n",
      "Iteration 9840 -> Train Loss: 1.8834, MAP@3: 0.664\n",
      "Iteration 9860 -> Train Loss: 1.7319, MAP@3: 0.692\n",
      "Iteration 9880 -> Train Loss: 1.8070, MAP@3: 0.672\n",
      "Iteration 9900 -> Train Loss: 1.8242, MAP@3: 0.652\n",
      "Iteration 9920 -> Train Loss: 1.9725, MAP@3: 0.646\n",
      "Iteration 9940 -> Train Loss: 1.9459, MAP@3: 0.651\n",
      "Iteration 9960 -> Train Loss: 1.9462, MAP@3: 0.655\n",
      "Iteration 9980 -> Train Loss: 1.8849, MAP@3: 0.655\n",
      "Iteration 10000 -> Train Loss: 2.0300, MAP@3: 0.629\n",
      "Iteration 10020 -> Train Loss: 1.9487, MAP@3: 0.658\n",
      "Iteration 10040 -> Train Loss: 1.8444, MAP@3: 0.671\n",
      "Iteration 10060 -> Train Loss: 1.9480, MAP@3: 0.651\n",
      "Iteration 10080 -> Train Loss: 1.8674, MAP@3: 0.655\n",
      "Iteration 10100 -> Train Loss: 1.9861, MAP@3: 0.636\n",
      "Iteration 10120 -> Train Loss: 1.7691, MAP@3: 0.672\n",
      "Iteration 10140 -> Train Loss: 1.8998, MAP@3: 0.653\n",
      "Iteration 10160 -> Train Loss: 1.9049, MAP@3: 0.660\n",
      "Iteration 10180 -> Train Loss: 1.9094, MAP@3: 0.655\n",
      "Iteration 10200 -> Train Loss: 1.8761, MAP@3: 0.654\n",
      "Iteration 10220 -> Train Loss: 1.7585, MAP@3: 0.684\n",
      "Iteration 10240 -> Train Loss: 1.7932, MAP@3: 0.682\n",
      "Iteration 10260 -> Train Loss: 1.9811, MAP@3: 0.641\n",
      "Iteration 10280 -> Train Loss: 1.8365, MAP@3: 0.667\n",
      "Iteration 10300 -> Train Loss: 1.7956, MAP@3: 0.673\n",
      "Iteration 10320 -> Train Loss: 1.9931, MAP@3: 0.638\n",
      "Iteration 10340 -> Train Loss: 1.8768, MAP@3: 0.659\n",
      "Iteration 10360 -> Train Loss: 1.8693, MAP@3: 0.670\n",
      "Iteration 10380 -> Train Loss: 1.8101, MAP@3: 0.667\n",
      "Iteration 10400 -> Train Loss: 1.9064, MAP@3: 0.662\n",
      "Iteration 10420 -> Train Loss: 1.8405, MAP@3: 0.670\n",
      "Iteration 10440 -> Train Loss: 1.8168, MAP@3: 0.674\n",
      "Iteration 10460 -> Train Loss: 1.9257, MAP@3: 0.664\n",
      "Iteration 10480 -> Train Loss: 1.8388, MAP@3: 0.660\n",
      "Iteration 10500 -> Train Loss: 1.9190, MAP@3: 0.647\n",
      "Iteration 10520 -> Train Loss: 1.7858, MAP@3: 0.682\n",
      "Iteration 10540 -> Train Loss: 1.8113, MAP@3: 0.667\n",
      "Iteration 10560 -> Train Loss: 1.8171, MAP@3: 0.663\n",
      "Iteration 10580 -> Train Loss: 1.9599, MAP@3: 0.645\n",
      "Iteration 10600 -> Train Loss: 1.7797, MAP@3: 0.682\n",
      "Iteration 10620 -> Train Loss: 1.8424, MAP@3: 0.675\n",
      "Iteration 10640 -> Train Loss: 1.8411, MAP@3: 0.666\n",
      "Iteration 10660 -> Train Loss: 1.9352, MAP@3: 0.653\n",
      "Iteration 10680 -> Train Loss: 1.9292, MAP@3: 0.643\n",
      "Iteration 10700 -> Train Loss: 1.8317, MAP@3: 0.663\n",
      "Iteration 10720 -> Train Loss: 1.9010, MAP@3: 0.659\n",
      "Iteration 10740 -> Train Loss: 1.9428, MAP@3: 0.651\n",
      "Iteration 10760 -> Train Loss: 1.8932, MAP@3: 0.658\n",
      "Iteration 10780 -> Train Loss: 1.9468, MAP@3: 0.659\n",
      "Iteration 10800 -> Train Loss: 1.8557, MAP@3: 0.669\n",
      "Iteration 10820 -> Train Loss: 1.9300, MAP@3: 0.658\n",
      "Iteration 10840 -> Train Loss: 1.8873, MAP@3: 0.660\n",
      "Iteration 10860 -> Train Loss: 1.8143, MAP@3: 0.674\n",
      "Iteration 10880 -> Train Loss: 1.8726, MAP@3: 0.660\n",
      "Iteration 10900 -> Train Loss: 1.8657, MAP@3: 0.653\n",
      "Iteration 10920 -> Train Loss: 1.8484, MAP@3: 0.664\n",
      "Iteration 10940 -> Train Loss: 1.8846, MAP@3: 0.660\n",
      "Iteration 10960 -> Train Loss: 1.8223, MAP@3: 0.668\n",
      "Iteration 10980 -> Train Loss: 1.8020, MAP@3: 0.675\n",
      "Iteration 11000 -> Train Loss: 1.7885, MAP@3: 0.682\n",
      "Iteration 11020 -> Train Loss: 1.7700, MAP@3: 0.680\n",
      "Iteration 11040 -> Train Loss: 1.8296, MAP@3: 0.669\n",
      "Iteration 11060 -> Train Loss: 1.9174, MAP@3: 0.657\n",
      "Iteration 11080 -> Train Loss: 1.8470, MAP@3: 0.669\n",
      "Iteration 11100 -> Train Loss: 1.8031, MAP@3: 0.670\n",
      "Iteration 11120 -> Train Loss: 1.8756, MAP@3: 0.655\n",
      "Iteration 11140 -> Train Loss: 1.8280, MAP@3: 0.675\n",
      "Iteration 11160 -> Train Loss: 1.7865, MAP@3: 0.672\n",
      "Iteration 11180 -> Train Loss: 1.7934, MAP@3: 0.674\n",
      "Iteration 11200 -> Train Loss: 1.8430, MAP@3: 0.675\n",
      "Iteration 11220 -> Train Loss: 1.8543, MAP@3: 0.665\n",
      "Iteration 11240 -> Train Loss: 1.9331, MAP@3: 0.653\n",
      "Iteration 11260 -> Train Loss: 1.9238, MAP@3: 0.655\n",
      "Iteration 11280 -> Train Loss: 1.8175, MAP@3: 0.675\n",
      "Iteration 11300 -> Train Loss: 1.8282, MAP@3: 0.677\n",
      "Iteration 11320 -> Train Loss: 1.8928, MAP@3: 0.659\n",
      "Iteration 11340 -> Train Loss: 1.8278, MAP@3: 0.678\n",
      "Iteration 11360 -> Train Loss: 1.8403, MAP@3: 0.663\n",
      "Iteration 11380 -> Train Loss: 1.8207, MAP@3: 0.674\n",
      "Iteration 11400 -> Train Loss: 1.7385, MAP@3: 0.687\n",
      "Iteration 11420 -> Train Loss: 1.8703, MAP@3: 0.669\n",
      "Iteration 11440 -> Train Loss: 1.8446, MAP@3: 0.663\n",
      "Iteration 11460 -> Train Loss: 1.8724, MAP@3: 0.655\n",
      "Iteration 11480 -> Train Loss: 1.8232, MAP@3: 0.675\n",
      "Iteration 11500 -> Train Loss: 1.9069, MAP@3: 0.648\n",
      "Iteration 11520 -> Train Loss: 1.8836, MAP@3: 0.648\n",
      "Iteration 11540 -> Train Loss: 1.8185, MAP@3: 0.681\n",
      "Iteration 11560 -> Train Loss: 1.7873, MAP@3: 0.678\n",
      "Iteration 11580 -> Train Loss: 1.9071, MAP@3: 0.660\n",
      "Iteration 11600 -> Train Loss: 1.8089, MAP@3: 0.676\n",
      "Iteration 11620 -> Train Loss: 1.8526, MAP@3: 0.665\n",
      "Iteration 11640 -> Train Loss: 1.8866, MAP@3: 0.666\n",
      "Iteration 11660 -> Train Loss: 1.8365, MAP@3: 0.672\n",
      "Iteration 11680 -> Train Loss: 1.8255, MAP@3: 0.669\n",
      "Iteration 11700 -> Train Loss: 1.7904, MAP@3: 0.674\n",
      "Iteration 11720 -> Train Loss: 1.8698, MAP@3: 0.671\n",
      "Iteration 11740 -> Train Loss: 1.7669, MAP@3: 0.679\n",
      "Iteration 11760 -> Train Loss: 1.8790, MAP@3: 0.662\n",
      "Iteration 11780 -> Train Loss: 1.7933, MAP@3: 0.674\n",
      "Iteration 11800 -> Train Loss: 1.8079, MAP@3: 0.676\n",
      "Iteration 11820 -> Train Loss: 1.8370, MAP@3: 0.661\n",
      "Iteration 11840 -> Train Loss: 1.8794, MAP@3: 0.660\n",
      "Iteration 11860 -> Train Loss: 1.7516, MAP@3: 0.689\n",
      "Iteration 11880 -> Train Loss: 1.8615, MAP@3: 0.661\n",
      "Iteration 11900 -> Train Loss: 1.7772, MAP@3: 0.679\n",
      "Iteration 11920 -> Train Loss: 1.8182, MAP@3: 0.667\n",
      "Iteration 11940 -> Train Loss: 1.7735, MAP@3: 0.683\n",
      "Iteration 11960 -> Train Loss: 1.7921, MAP@3: 0.682\n",
      "Iteration 11980 -> Train Loss: 1.8432, MAP@3: 0.663\n",
      "Iteration 12000 -> Train Loss: 1.8757, MAP@3: 0.659\n",
      "Iteration 12020 -> Train Loss: 1.6913, MAP@3: 0.698\n",
      "Iteration 12040 -> Train Loss: 1.8902, MAP@3: 0.671\n",
      "Iteration 12060 -> Train Loss: 1.8048, MAP@3: 0.664\n",
      "Iteration 12080 -> Train Loss: 1.8796, MAP@3: 0.649\n",
      "Iteration 12100 -> Train Loss: 1.8665, MAP@3: 0.659\n",
      "Iteration 12120 -> Train Loss: 1.7553, MAP@3: 0.692\n",
      "Iteration 12140 -> Train Loss: 1.7441, MAP@3: 0.683\n",
      "Iteration 12160 -> Train Loss: 1.8919, MAP@3: 0.658\n",
      "Iteration 12180 -> Train Loss: 1.8428, MAP@3: 0.664\n",
      "Iteration 12200 -> Train Loss: 1.9124, MAP@3: 0.646\n",
      "Iteration 12220 -> Train Loss: 1.8105, MAP@3: 0.664\n",
      "Iteration 12240 -> Train Loss: 1.6842, MAP@3: 0.699\n",
      "Iteration 12260 -> Train Loss: 1.8675, MAP@3: 0.665\n",
      "Iteration 12280 -> Train Loss: 1.8917, MAP@3: 0.671\n",
      "Iteration 12300 -> Train Loss: 1.7573, MAP@3: 0.679\n",
      "Iteration 12320 -> Train Loss: 1.8835, MAP@3: 0.657\n"
     ]
    },
    {
     "ename": "KeyboardInterrupt",
     "evalue": "",
     "traceback": [
      "\u001b[1;31m---------------------------------------------------------------------------\u001b[0m",
      "\u001b[1;31mKeyboardInterrupt\u001b[0m                         Traceback (most recent call last)",
      "\u001b[1;32m<timed exec>\u001b[0m in \u001b[0;36m<module>\u001b[1;34m\u001b[0m\n",
      "\u001b[1;31mKeyboardInterrupt\u001b[0m: "
     ],
     "output_type": "error"
    }
   ],
   "source": [
    "%%time\n",
    "epochs = 1\n",
    "lsize = len(loader)\n",
    "itr = 1\n",
    "p_itr = 20 # print every N iteration\n",
    "model.train()\n",
    "tloss, score = 0, 0\n",
    "for epoch in range(epochs):\n",
    "    for x, y in loader:\n",
    "        x, y = x.to(device), y.to(device)\n",
    "        optimizer.zero_grad()\n",
    "        output = model(x)\n",
    "        loss = criterion(output, y)\n",
    "        loss.backward()\n",
    "        optimizer.step()\n",
    "        tloss += loss.item()\n",
    "        score += mapk(output, y)[0].item()\n",
    "        scheduler.step()\n",
    "        if itr%p_itr==0:\n",
    "            print('Iteration {} -> Train Loss: {:.4f}, MAP@3: {:.3f}'.format(itr, tloss/p_itr, score/p_itr))\n",
    "            tloss, score = 0, 0\n",
    "        itr +=1"
   ]
  },
  {
   "cell_type": "markdown",
   "metadata": {
    "_uuid": "fb2caca6c2924a1008362d699a9e56f6219af890",
    "pycharm": {}
   },
   "source": [
    "### Save model state"
   ]
  },
  {
   "cell_type": "code",
   "execution_count": 47,
   "metadata": {
    "_uuid": "006c6a9e1a36507ea22ea8be2c9144a764085917",
    "pycharm": {}
   },
   "outputs": [],
   "source": [
    "filename_pth='checkpoint_vgg11_SVD.pth'\n",
    "torch.save(model.state_dict(), filename_pth)\n"
   ]
  },
  {
   "cell_type": "markdown",
   "metadata": {
    "_uuid": "5f549634ec660fc4bd6f9c9e84f82dcd569ada18",
    "pycharm": {}
   },
   "source": [
    "### And finally predict for test set "
   ]
  },
  {
   "cell_type": "code",
   "execution_count": 14,
   "metadata": {
    "_uuid": "c10f196d429b3ca77c8612242885a8128988e763",
    "pycharm": {}
   },
   "outputs": [],
   "source": [
    "# testset = DoodlesDataset('test_simplified.csv', './quickdraw-doodle-recognition', mode='test', nrows=None, size=SIZE)\n",
    "# testloader = DataLoader(testset, batch_size=128, shuffle=False, num_workers=0)\n",
    "# model.eval()\n",
    "# itrs = iter(loader)\n",
    "# x,y = itrs.next()\n",
    "# print(x)\n",
    "# testLoader test show\n",
    "def testfun(m):\n",
    "    dataiter = iter(testloader)\n",
    "    torch.cuda.empty_cache()\n",
    "    images, label = dataiter.next()\n",
    "    images, label = images.to(device), label.to(device)\n",
    "    out = model(images)\n",
    "\n",
    "    _, pred = out.topk(3, 1, True, True)\n",
    "    pred = pred.cpu()\n",
    "    images = images.cpu()\n",
    "    label = label.cpu()\n",
    "    correct = 0\n",
    "    total = 0\n",
    "    for i in range(pred.size()[0]):\n",
    "        print('Guess:',' '.join('[%20s]' % decode_labels(j.item()) for j in pred[i]),'||||||Expected [%20s]' % decode_labels(label[i].item()))\n",
    "        if label[i] in pred[i]:\n",
    "            correct = correct+1\n",
    "            # print(' '.join('GoodDick! The %15d one is right answer.' % index for index in range(3) if label[i].item() == pred[i][index].item()))\n",
    "        else:\n",
    "            print('Ben dan ,Guess failed!')\n",
    "        total = total+1\n",
    "\n",
    "    # print(' '.join('%5s' % decode_labels(label.numpy()[j]) for j in range(24)))\n",
    "    print(' Totally %d test images, right %d images, accuracy %d %%' % (total,correct,\n",
    "        100 * correct / total))\n",
    "    # show images\n",
    "    plt.figure(figsize=(16,16))\n",
    "\n",
    "    imshow(torchvision.utils.make_grid(images[:64]))\n"
   ]
  },
  {
   "cell_type": "code",
   "execution_count": null,
   "metadata": {
    "_uuid": "0b595d5b9bd8d0c6ec5043717d7f9678a147f063",
    "pycharm": {},
    "scrolled": true
   },
   "outputs": [],
   "source": [
    "def calcu():\n",
    "    model.eval()\n",
    "    labels = np.empty((0,3))\n",
    "    answer = []\n",
    "    for x,y in tqdm.tqdm(testloader):\n",
    "        x = x.to(device)\n",
    "        output = model(x)\n",
    "        _, pred = output.topk(3, 1, True, True)\n",
    "        pred = pred.cpu()\n",
    "        labels = np.concatenate([labels, pred], axis = 0)\n",
    "        answer.extend(y.numpy())\n",
    "    correct = 0\n",
    "    total = 0\n",
    "    with torch.no_grad():\n",
    "        for i, lab in enumerate(answer):\n",
    "            if lab in labels[i]:\n",
    "                # print(labels[i])\n",
    "                correct = correct+1\n",
    "            total = total+1\n",
    "    print('Accuracy of the network on the %d test images: %d %%' % (total,\n",
    "        100 * correct / total))"
   ]
  },
  {
   "cell_type": "code",
   "execution_count": 40,
   "metadata": {
    "_uuid": "3177c36bc834f5910cc9e2fc743b2673ce637406",
    "pycharm": {}
   },
   "outputs": [],
   "source": [
    "del model"
   ]
  },
  {
   "cell_type": "code",
   "execution_count": null,
   "metadata": {},
   "outputs": [],
   "source": [
    "%%time\n",
    "submission = pd.read_csv('./doodle_dataset/test_simplified.csv', index_col='key_id')\n",
    "submission.drop(['countrycode', 'drawing'], axis=1, inplace=True)\n",
    "submission['word'] = ''\n",
    "for i, label in enumerate(labels):\n",
    "    submission.word.iloc[i] = \" \".join([decode_labels(l) for l in label])"
   ]
  },
  {
   "cell_type": "code",
   "execution_count": null,
   "metadata": {
    "_uuid": "b980509c4869d040547074b077710a9d533f2797",
    "pycharm": {}
   },
   "outputs": [],
   "source": [
    "submission.to_csv('preds_resnet18.csv')"
   ]
  },
  {
   "cell_type": "code",
   "execution_count": 165,
   "metadata": {},
   "outputs": [
    {
     "ename": "TypeError",
     "evalue": "expected np.ndarray (got list)",
     "traceback": [
      "\u001b[1;31m---------------------------------------------------------------------------\u001b[0m",
      "\u001b[1;31mTypeError\u001b[0m                                 Traceback (most recent call last)",
      "\u001b[1;32m<ipython-input-165-022b92739b01>\u001b[0m in \u001b[0;36m<module>\u001b[1;34m\u001b[0m\n\u001b[1;32m----> 1\u001b[1;33m \u001b[0mprint\u001b[0m\u001b[1;33m(\u001b[0m\u001b[0maccuracy\u001b[0m\u001b[1;33m(\u001b[0m\u001b[0mtorch\u001b[0m\u001b[1;33m.\u001b[0m\u001b[0mfrom_numpy\u001b[0m\u001b[1;33m(\u001b[0m\u001b[0mlabels\u001b[0m\u001b[1;33m)\u001b[0m\u001b[1;33m,\u001b[0m\u001b[0mtorch\u001b[0m\u001b[1;33m.\u001b[0m\u001b[0mfrom_numpy\u001b[0m\u001b[1;33m(\u001b[0m\u001b[0manswer\u001b[0m\u001b[1;33m)\u001b[0m\u001b[1;33m)\u001b[0m\u001b[1;33m)\u001b[0m\u001b[1;33m\u001b[0m\u001b[1;33m\u001b[0m\u001b[0m\n\u001b[0m",
      "\u001b[1;31mTypeError\u001b[0m: expected np.ndarray (got list)"
     ],
     "output_type": "error"
    }
   ],
   "source": [
    "print(accuracy(torch.from_numpy(labels),torch.from_numpy(answer)))"
   ]
  },
  {
   "cell_type": "code",
   "execution_count": 20,
   "metadata": {},
   "outputs": [
    {
     "ename": "RuntimeError",
     "evalue": "CUDA out of memory. Tried to allocate 784.00 MiB (GPU 0; 8.00 GiB total capacity; 5.89 GiB already allocated; 153.75 MiB free; 198.68 MiB cached)",
     "traceback": [
      "\u001b[1;31m---------------------------------------------------------------------------\u001b[0m",
      "\u001b[1;31mRuntimeError\u001b[0m                              Traceback (most recent call last)",
      "\u001b[1;32m<ipython-input-20-d36064868779>\u001b[0m in \u001b[0;36m<module>\u001b[1;34m\u001b[0m\n\u001b[1;32m----> 1\u001b[1;33m \u001b[0mtestfun\u001b[0m\u001b[1;33m(\u001b[0m\u001b[1;36m0\u001b[0m\u001b[1;33m)\u001b[0m\u001b[1;33m\u001b[0m\u001b[1;33m\u001b[0m\u001b[0m\n\u001b[0m",
      "\u001b[1;32m<ipython-input-15-992529ab337f>\u001b[0m in \u001b[0;36mtestfun\u001b[1;34m(m)\u001b[0m\n\u001b[0;32m     11\u001b[0m     \u001b[0mimages\u001b[0m\u001b[1;33m,\u001b[0m \u001b[0mlabel\u001b[0m \u001b[1;33m=\u001b[0m \u001b[0mdataiter\u001b[0m\u001b[1;33m.\u001b[0m\u001b[0mnext\u001b[0m\u001b[1;33m(\u001b[0m\u001b[1;33m)\u001b[0m\u001b[1;33m\u001b[0m\u001b[1;33m\u001b[0m\u001b[0m\n\u001b[0;32m     12\u001b[0m     \u001b[0mimages\u001b[0m\u001b[1;33m,\u001b[0m \u001b[0mlabel\u001b[0m \u001b[1;33m=\u001b[0m \u001b[0mimages\u001b[0m\u001b[1;33m.\u001b[0m\u001b[0mto\u001b[0m\u001b[1;33m(\u001b[0m\u001b[0mdevice\u001b[0m\u001b[1;33m)\u001b[0m\u001b[1;33m,\u001b[0m \u001b[0mlabel\u001b[0m\u001b[1;33m.\u001b[0m\u001b[0mto\u001b[0m\u001b[1;33m(\u001b[0m\u001b[0mdevice\u001b[0m\u001b[1;33m)\u001b[0m\u001b[1;33m\u001b[0m\u001b[1;33m\u001b[0m\u001b[0m\n\u001b[1;32m---> 13\u001b[1;33m     \u001b[0mout\u001b[0m \u001b[1;33m=\u001b[0m \u001b[0mmodel\u001b[0m\u001b[1;33m(\u001b[0m\u001b[0mimages\u001b[0m\u001b[1;33m)\u001b[0m\u001b[1;33m\u001b[0m\u001b[1;33m\u001b[0m\u001b[0m\n\u001b[0m\u001b[0;32m     14\u001b[0m \u001b[1;33m\u001b[0m\u001b[0m\n\u001b[0;32m     15\u001b[0m     \u001b[0m_\u001b[0m\u001b[1;33m,\u001b[0m \u001b[0mpred\u001b[0m \u001b[1;33m=\u001b[0m \u001b[0mout\u001b[0m\u001b[1;33m.\u001b[0m\u001b[0mtopk\u001b[0m\u001b[1;33m(\u001b[0m\u001b[1;36m3\u001b[0m\u001b[1;33m,\u001b[0m \u001b[1;36m1\u001b[0m\u001b[1;33m,\u001b[0m \u001b[1;32mTrue\u001b[0m\u001b[1;33m,\u001b[0m \u001b[1;32mTrue\u001b[0m\u001b[1;33m)\u001b[0m\u001b[1;33m\u001b[0m\u001b[1;33m\u001b[0m\u001b[0m\n",
      "\u001b[1;32mc:\\users\\pencil\\appdata\\local\\programs\\python\\python37\\lib\\site-packages\\torch\\nn\\modules\\module.py\u001b[0m in \u001b[0;36m__call__\u001b[1;34m(self, *input, **kwargs)\u001b[0m\n\u001b[0;32m    491\u001b[0m             \u001b[0mresult\u001b[0m \u001b[1;33m=\u001b[0m \u001b[0mself\u001b[0m\u001b[1;33m.\u001b[0m\u001b[0m_slow_forward\u001b[0m\u001b[1;33m(\u001b[0m\u001b[1;33m*\u001b[0m\u001b[0minput\u001b[0m\u001b[1;33m,\u001b[0m \u001b[1;33m**\u001b[0m\u001b[0mkwargs\u001b[0m\u001b[1;33m)\u001b[0m\u001b[1;33m\u001b[0m\u001b[1;33m\u001b[0m\u001b[0m\n\u001b[0;32m    492\u001b[0m         \u001b[1;32melse\u001b[0m\u001b[1;33m:\u001b[0m\u001b[1;33m\u001b[0m\u001b[1;33m\u001b[0m\u001b[0m\n\u001b[1;32m--> 493\u001b[1;33m             \u001b[0mresult\u001b[0m \u001b[1;33m=\u001b[0m \u001b[0mself\u001b[0m\u001b[1;33m.\u001b[0m\u001b[0mforward\u001b[0m\u001b[1;33m(\u001b[0m\u001b[1;33m*\u001b[0m\u001b[0minput\u001b[0m\u001b[1;33m,\u001b[0m \u001b[1;33m**\u001b[0m\u001b[0mkwargs\u001b[0m\u001b[1;33m)\u001b[0m\u001b[1;33m\u001b[0m\u001b[1;33m\u001b[0m\u001b[0m\n\u001b[0m\u001b[0;32m    494\u001b[0m         \u001b[1;32mfor\u001b[0m \u001b[0mhook\u001b[0m \u001b[1;32min\u001b[0m \u001b[0mself\u001b[0m\u001b[1;33m.\u001b[0m\u001b[0m_forward_hooks\u001b[0m\u001b[1;33m.\u001b[0m\u001b[0mvalues\u001b[0m\u001b[1;33m(\u001b[0m\u001b[1;33m)\u001b[0m\u001b[1;33m:\u001b[0m\u001b[1;33m\u001b[0m\u001b[1;33m\u001b[0m\u001b[0m\n\u001b[0;32m    495\u001b[0m             \u001b[0mhook_result\u001b[0m \u001b[1;33m=\u001b[0m \u001b[0mhook\u001b[0m\u001b[1;33m(\u001b[0m\u001b[0mself\u001b[0m\u001b[1;33m,\u001b[0m \u001b[0minput\u001b[0m\u001b[1;33m,\u001b[0m \u001b[0mresult\u001b[0m\u001b[1;33m)\u001b[0m\u001b[1;33m\u001b[0m\u001b[1;33m\u001b[0m\u001b[0m\n",
      "\u001b[1;32mc:\\users\\pencil\\appdata\\local\\programs\\python\\python37\\lib\\site-packages\\torchvision\\models\\vgg.py\u001b[0m in \u001b[0;36mforward\u001b[1;34m(self, x)\u001b[0m\n\u001b[0;32m     40\u001b[0m \u001b[1;33m\u001b[0m\u001b[0m\n\u001b[0;32m     41\u001b[0m     \u001b[1;32mdef\u001b[0m \u001b[0mforward\u001b[0m\u001b[1;33m(\u001b[0m\u001b[0mself\u001b[0m\u001b[1;33m,\u001b[0m \u001b[0mx\u001b[0m\u001b[1;33m)\u001b[0m\u001b[1;33m:\u001b[0m\u001b[1;33m\u001b[0m\u001b[1;33m\u001b[0m\u001b[0m\n\u001b[1;32m---> 42\u001b[1;33m         \u001b[0mx\u001b[0m \u001b[1;33m=\u001b[0m \u001b[0mself\u001b[0m\u001b[1;33m.\u001b[0m\u001b[0mfeatures\u001b[0m\u001b[1;33m(\u001b[0m\u001b[0mx\u001b[0m\u001b[1;33m)\u001b[0m\u001b[1;33m\u001b[0m\u001b[1;33m\u001b[0m\u001b[0m\n\u001b[0m\u001b[0;32m     43\u001b[0m         \u001b[0mx\u001b[0m \u001b[1;33m=\u001b[0m \u001b[0mself\u001b[0m\u001b[1;33m.\u001b[0m\u001b[0mavgpool\u001b[0m\u001b[1;33m(\u001b[0m\u001b[0mx\u001b[0m\u001b[1;33m)\u001b[0m\u001b[1;33m\u001b[0m\u001b[1;33m\u001b[0m\u001b[0m\n\u001b[0;32m     44\u001b[0m         \u001b[0mx\u001b[0m \u001b[1;33m=\u001b[0m \u001b[0mx\u001b[0m\u001b[1;33m.\u001b[0m\u001b[0mview\u001b[0m\u001b[1;33m(\u001b[0m\u001b[0mx\u001b[0m\u001b[1;33m.\u001b[0m\u001b[0msize\u001b[0m\u001b[1;33m(\u001b[0m\u001b[1;36m0\u001b[0m\u001b[1;33m)\u001b[0m\u001b[1;33m,\u001b[0m \u001b[1;33m-\u001b[0m\u001b[1;36m1\u001b[0m\u001b[1;33m)\u001b[0m\u001b[1;33m\u001b[0m\u001b[1;33m\u001b[0m\u001b[0m\n",
      "\u001b[1;32mc:\\users\\pencil\\appdata\\local\\programs\\python\\python37\\lib\\site-packages\\torch\\nn\\modules\\module.py\u001b[0m in \u001b[0;36m__call__\u001b[1;34m(self, *input, **kwargs)\u001b[0m\n\u001b[0;32m    491\u001b[0m             \u001b[0mresult\u001b[0m \u001b[1;33m=\u001b[0m \u001b[0mself\u001b[0m\u001b[1;33m.\u001b[0m\u001b[0m_slow_forward\u001b[0m\u001b[1;33m(\u001b[0m\u001b[1;33m*\u001b[0m\u001b[0minput\u001b[0m\u001b[1;33m,\u001b[0m \u001b[1;33m**\u001b[0m\u001b[0mkwargs\u001b[0m\u001b[1;33m)\u001b[0m\u001b[1;33m\u001b[0m\u001b[1;33m\u001b[0m\u001b[0m\n\u001b[0;32m    492\u001b[0m         \u001b[1;32melse\u001b[0m\u001b[1;33m:\u001b[0m\u001b[1;33m\u001b[0m\u001b[1;33m\u001b[0m\u001b[0m\n\u001b[1;32m--> 493\u001b[1;33m             \u001b[0mresult\u001b[0m \u001b[1;33m=\u001b[0m \u001b[0mself\u001b[0m\u001b[1;33m.\u001b[0m\u001b[0mforward\u001b[0m\u001b[1;33m(\u001b[0m\u001b[1;33m*\u001b[0m\u001b[0minput\u001b[0m\u001b[1;33m,\u001b[0m \u001b[1;33m**\u001b[0m\u001b[0mkwargs\u001b[0m\u001b[1;33m)\u001b[0m\u001b[1;33m\u001b[0m\u001b[1;33m\u001b[0m\u001b[0m\n\u001b[0m\u001b[0;32m    494\u001b[0m         \u001b[1;32mfor\u001b[0m \u001b[0mhook\u001b[0m \u001b[1;32min\u001b[0m \u001b[0mself\u001b[0m\u001b[1;33m.\u001b[0m\u001b[0m_forward_hooks\u001b[0m\u001b[1;33m.\u001b[0m\u001b[0mvalues\u001b[0m\u001b[1;33m(\u001b[0m\u001b[1;33m)\u001b[0m\u001b[1;33m:\u001b[0m\u001b[1;33m\u001b[0m\u001b[1;33m\u001b[0m\u001b[0m\n\u001b[0;32m    495\u001b[0m             \u001b[0mhook_result\u001b[0m \u001b[1;33m=\u001b[0m \u001b[0mhook\u001b[0m\u001b[1;33m(\u001b[0m\u001b[0mself\u001b[0m\u001b[1;33m,\u001b[0m \u001b[0minput\u001b[0m\u001b[1;33m,\u001b[0m \u001b[0mresult\u001b[0m\u001b[1;33m)\u001b[0m\u001b[1;33m\u001b[0m\u001b[1;33m\u001b[0m\u001b[0m\n",
      "\u001b[1;32mc:\\users\\pencil\\appdata\\local\\programs\\python\\python37\\lib\\site-packages\\torch\\nn\\modules\\container.py\u001b[0m in \u001b[0;36mforward\u001b[1;34m(self, input)\u001b[0m\n\u001b[0;32m     90\u001b[0m     \u001b[1;32mdef\u001b[0m \u001b[0mforward\u001b[0m\u001b[1;33m(\u001b[0m\u001b[0mself\u001b[0m\u001b[1;33m,\u001b[0m \u001b[0minput\u001b[0m\u001b[1;33m)\u001b[0m\u001b[1;33m:\u001b[0m\u001b[1;33m\u001b[0m\u001b[1;33m\u001b[0m\u001b[0m\n\u001b[0;32m     91\u001b[0m         \u001b[1;32mfor\u001b[0m \u001b[0mmodule\u001b[0m \u001b[1;32min\u001b[0m \u001b[0mself\u001b[0m\u001b[1;33m.\u001b[0m\u001b[0m_modules\u001b[0m\u001b[1;33m.\u001b[0m\u001b[0mvalues\u001b[0m\u001b[1;33m(\u001b[0m\u001b[1;33m)\u001b[0m\u001b[1;33m:\u001b[0m\u001b[1;33m\u001b[0m\u001b[1;33m\u001b[0m\u001b[0m\n\u001b[1;32m---> 92\u001b[1;33m             \u001b[0minput\u001b[0m \u001b[1;33m=\u001b[0m \u001b[0mmodule\u001b[0m\u001b[1;33m(\u001b[0m\u001b[0minput\u001b[0m\u001b[1;33m)\u001b[0m\u001b[1;33m\u001b[0m\u001b[1;33m\u001b[0m\u001b[0m\n\u001b[0m\u001b[0;32m     93\u001b[0m         \u001b[1;32mreturn\u001b[0m \u001b[0minput\u001b[0m\u001b[1;33m\u001b[0m\u001b[1;33m\u001b[0m\u001b[0m\n\u001b[0;32m     94\u001b[0m \u001b[1;33m\u001b[0m\u001b[0m\n",
      "\u001b[1;32mc:\\users\\pencil\\appdata\\local\\programs\\python\\python37\\lib\\site-packages\\torch\\nn\\modules\\module.py\u001b[0m in \u001b[0;36m__call__\u001b[1;34m(self, *input, **kwargs)\u001b[0m\n\u001b[0;32m    491\u001b[0m             \u001b[0mresult\u001b[0m \u001b[1;33m=\u001b[0m \u001b[0mself\u001b[0m\u001b[1;33m.\u001b[0m\u001b[0m_slow_forward\u001b[0m\u001b[1;33m(\u001b[0m\u001b[1;33m*\u001b[0m\u001b[0minput\u001b[0m\u001b[1;33m,\u001b[0m \u001b[1;33m**\u001b[0m\u001b[0mkwargs\u001b[0m\u001b[1;33m)\u001b[0m\u001b[1;33m\u001b[0m\u001b[1;33m\u001b[0m\u001b[0m\n\u001b[0;32m    492\u001b[0m         \u001b[1;32melse\u001b[0m\u001b[1;33m:\u001b[0m\u001b[1;33m\u001b[0m\u001b[1;33m\u001b[0m\u001b[0m\n\u001b[1;32m--> 493\u001b[1;33m             \u001b[0mresult\u001b[0m \u001b[1;33m=\u001b[0m \u001b[0mself\u001b[0m\u001b[1;33m.\u001b[0m\u001b[0mforward\u001b[0m\u001b[1;33m(\u001b[0m\u001b[1;33m*\u001b[0m\u001b[0minput\u001b[0m\u001b[1;33m,\u001b[0m \u001b[1;33m**\u001b[0m\u001b[0mkwargs\u001b[0m\u001b[1;33m)\u001b[0m\u001b[1;33m\u001b[0m\u001b[1;33m\u001b[0m\u001b[0m\n\u001b[0m\u001b[0;32m    494\u001b[0m         \u001b[1;32mfor\u001b[0m \u001b[0mhook\u001b[0m \u001b[1;32min\u001b[0m \u001b[0mself\u001b[0m\u001b[1;33m.\u001b[0m\u001b[0m_forward_hooks\u001b[0m\u001b[1;33m.\u001b[0m\u001b[0mvalues\u001b[0m\u001b[1;33m(\u001b[0m\u001b[1;33m)\u001b[0m\u001b[1;33m:\u001b[0m\u001b[1;33m\u001b[0m\u001b[1;33m\u001b[0m\u001b[0m\n\u001b[0;32m    495\u001b[0m             \u001b[0mhook_result\u001b[0m \u001b[1;33m=\u001b[0m \u001b[0mhook\u001b[0m\u001b[1;33m(\u001b[0m\u001b[0mself\u001b[0m\u001b[1;33m,\u001b[0m \u001b[0minput\u001b[0m\u001b[1;33m,\u001b[0m \u001b[0mresult\u001b[0m\u001b[1;33m)\u001b[0m\u001b[1;33m\u001b[0m\u001b[1;33m\u001b[0m\u001b[0m\n",
      "\u001b[1;32mc:\\users\\pencil\\appdata\\local\\programs\\python\\python37\\lib\\site-packages\\torch\\nn\\modules\\conv.py\u001b[0m in \u001b[0;36mforward\u001b[1;34m(self, input)\u001b[0m\n\u001b[0;32m    336\u001b[0m                             _pair(0), self.dilation, self.groups)\n\u001b[0;32m    337\u001b[0m         return F.conv2d(input, self.weight, self.bias, self.stride,\n\u001b[1;32m--> 338\u001b[1;33m                         self.padding, self.dilation, self.groups)\n\u001b[0m\u001b[0;32m    339\u001b[0m \u001b[1;33m\u001b[0m\u001b[0m\n\u001b[0;32m    340\u001b[0m \u001b[1;33m\u001b[0m\u001b[0m\n",
      "\u001b[1;31mRuntimeError\u001b[0m: CUDA out of memory. Tried to allocate 784.00 MiB (GPU 0; 8.00 GiB total capacity; 5.89 GiB already allocated; 153.75 MiB free; 198.68 MiB cached)"
     ],
     "output_type": "error"
    }
   ],
   "source": [
    "testfun(0)"
   ]
  },
  {
   "cell_type": "code",
   "execution_count": 16,
   "metadata": {
    "scrolled": false
   },
   "outputs": [
    {
     "name": "stderr",
     "output_type": "stream",
     "text": [
      "100%|████████████████████████████████████████████████████████████████████████████████████████████████████████████████████████████████████████████████████████████████████████████████████████████████████████████████████████████████████████████████████████████████████████████████| 319/319 [00:28<00:00, 11.37it/s]\n"
     ]
    },
    {
     "name": "stdout",
     "output_type": "stream",
     "text": [
      "Accuracy of the network on the 10200 test images: 81 %\n"
     ]
    }
   ],
   "source": [
    "calcu()"
   ]
  },
  {
   "cell_type": "code",
   "execution_count": null,
   "metadata": {},
   "outputs": [],
   "source": []
  }
 ],
 "metadata": {
  "kernelspec": {
   "display_name": "Python 3",
   "language": "python",
   "name": "python3"
  },
  "language_info": {
   "codemirror_mode": {
    "name": "ipython",
    "version": 3
   },
   "file_extension": ".py",
   "mimetype": "text/x-python",
   "name": "python",
   "nbconvert_exporter": "python",
   "pygments_lexer": "ipython3",
   "version": "3.7.1"
  }
 },
 "nbformat": 4,
 "nbformat_minor": 1
}
